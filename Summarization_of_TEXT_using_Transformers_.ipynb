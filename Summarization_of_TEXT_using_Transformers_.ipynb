{
  "cells": [
    {
      "cell_type": "markdown",
      "metadata": {
        "id": "view-in-github",
        "colab_type": "text"
      },
      "source": [
        "<a href=\"https://colab.research.google.com/github/sai2290/GEN_AI/blob/main/Summarization_of_TEXT_using_Transformers_.ipynb\" target=\"_parent\"><img src=\"https://colab.research.google.com/assets/colab-badge.svg\" alt=\"Open In Colab\"/></a>"
      ]
    },
    {
      "cell_type": "markdown",
      "source": [
        "# Text Summarization using Transformers"
      ],
      "metadata": {
        "id": "uEce5ekbPb4I"
      },
      "id": "uEce5ekbPb4I"
    },
    {
      "cell_type": "markdown",
      "id": "5815ffab",
      "metadata": {
        "id": "5815ffab"
      },
      "source": [
        "### Install Libraries"
      ]
    },
    {
      "cell_type": "markdown",
      "id": "39f5eb53",
      "metadata": {
        "id": "39f5eb53"
      },
      "source": [
        "Why: In this code snippet, you are installing the necessary Python packages that your project requires. These packages include \"transformers,\" \"sentencepiece,\" \"textwrap3,\" and \"nltk.\" The \"transformers\" package is the core library for working with transformer models, which are essential for text summarization. \"Sentencepiece\" is used for tokenization, \"textwrap3\" helps with text formatting, and \"nltk\" is used for natural language processing tasks.\n",
        "\n",
        "Where: You should use this code snippet at the beginning of your project or notebook, before any other code that depends on these packages. This ensures that you have the required libraries installed before using their functionalities.\n",
        "\n",
        "How: Copy and paste this code snippet into a code cell in your project's notebook or script. Run the cell, and the specified packages will be installed. The !pip install --quiet command installs the packages without displaying excessive output, keeping your environment clean and easy to read. Make sure you run this snippet only once to avoid unnecessary reinstallations. If you want to add more packages later, you can modify this snippet accordingly."
      ]
    },
    {
      "cell_type": "code",
      "source": [
        "import warnings\n",
        "\n",
        "# Filter out all warnings\n",
        "warnings.filterwarnings(\"ignore\")\n"
      ],
      "metadata": {
        "id": "3Sa9bGgjG3cC"
      },
      "id": "3Sa9bGgjG3cC",
      "execution_count": 2,
      "outputs": []
    },
    {
      "cell_type": "code",
      "execution_count": 3,
      "id": "e84df4b9",
      "metadata": {
        "colab": {
          "base_uri": "https://localhost:8080/"
        },
        "id": "e84df4b9",
        "outputId": "8b9fa124-31b1-4b6c-efd3-c70698cc01d3"
      },
      "outputs": [
        {
          "output_type": "stream",
          "name": "stdout",
          "text": [
            "  Installing build dependencies ... \u001b[?25l\u001b[?25hdone\n",
            "  Getting requirements to build wheel ... \u001b[?25l\u001b[?25hdone\n",
            "  Preparing metadata (pyproject.toml) ... \u001b[?25l\u001b[?25hdone\n",
            "  \u001b[1;31merror\u001b[0m: \u001b[1msubprocess-exited-with-error\u001b[0m\n",
            "  \n",
            "  \u001b[31m×\u001b[0m \u001b[32mBuilding wheel for tokenizers \u001b[0m\u001b[1;32m(\u001b[0m\u001b[32mpyproject.toml\u001b[0m\u001b[1;32m)\u001b[0m did not run successfully.\n",
            "  \u001b[31m│\u001b[0m exit code: \u001b[1;36m1\u001b[0m\n",
            "  \u001b[31m╰─>\u001b[0m See above for output.\n",
            "  \n",
            "  \u001b[1;35mnote\u001b[0m: This error originates from a subprocess, and is likely not a problem with pip.\n",
            "  Building wheel for tokenizers (pyproject.toml) ... \u001b[?25l\u001b[?25herror\n",
            "\u001b[31m  ERROR: Failed building wheel for tokenizers\u001b[0m\u001b[31m\n",
            "\u001b[0m\u001b[31mERROR: ERROR: Failed to build installable wheels for some pyproject.toml based projects (tokenizers)\u001b[0m\u001b[31m\n",
            "\u001b[0m"
          ]
        }
      ],
      "source": [
        "!pip install --quiet transformers==4.5.0\n",
        "!pip install --quiet sentencepiece==0.1.95\n",
        "!pip install --quiet textwrap3==0.9.2\n",
        "!pip install --quiet nltk==3.2.5"
      ]
    },
    {
      "cell_type": "markdown",
      "id": "cda84a32",
      "metadata": {
        "id": "cda84a32"
      },
      "source": [
        "Why: In this code snippet, you are installing a Python package called \"ipython-autotime.\" This package allows you to automatically display the execution time of each code cell in your Jupyter Notebook. This can be helpful for tracking how long different parts of your code take to run, which is useful for optimizing and understanding your code's performance.\n",
        "\n",
        "Where: You should include this code snippet near the top of your Jupyter Notebook, typically after you've installed all the required packages and before you start writing your main code."
      ]
    },
    {
      "cell_type": "code",
      "execution_count": 4,
      "id": "9074791e",
      "metadata": {
        "colab": {
          "base_uri": "https://localhost:8080/"
        },
        "id": "9074791e",
        "outputId": "3d411103-b95c-4419-a0a2-ca0b949c1552"
      },
      "outputs": [
        {
          "output_type": "stream",
          "name": "stdout",
          "text": [
            "time: 441 µs (started: 2024-09-10 06:44:46 +00:00)\n"
          ]
        }
      ],
      "source": [
        "!pip install --quiet ipython-autotime\n",
        "%load_ext autotime"
      ]
    },
    {
      "cell_type": "markdown",
      "source": [
        "### Sample 1"
      ],
      "metadata": {
        "id": "hdIejRBLH1l0"
      },
      "id": "hdIejRBLH1l0"
    },
    {
      "cell_type": "markdown",
      "id": "4b21aedc",
      "metadata": {
        "id": "4b21aedc"
      },
      "source": [
        "Why: In this below code snippet, you are using the textwrap3 library to format a long paragraph of text into lines of a specified width. This is important for presenting text in a more readable and organized manner, especially in cases where the text is too long to fit comfortably within the width of a page or screen.\n",
        "\n",
        "Where: You should use this code snippet when you want to format a long piece of text into lines of a certain width for better readability. This can be useful for displaying long passages of text in a way that doesn't require horizontal scrolling"
      ]
    },
    {
      "cell_type": "code",
      "execution_count": 5,
      "id": "64760ddc",
      "metadata": {
        "colab": {
          "base_uri": "https://localhost:8080/"
        },
        "id": "64760ddc",
        "outputId": "c981dcfc-2c9d-4d6d-c91d-c77dd34824b1"
      },
      "outputs": [
        {
          "output_type": "stream",
          "name": "stdout",
          "text": [
            "The DeepMind co-founder calls for the ‘containment’ of new technology in a heartfelt and candid exploration of what the future may hold for us.What is\n",
            "it with wave metaphors? Technological determinists – people who believe that technology drives history – love them. Think of Alvin Toffler, who saw\n",
            "the history of civilisation as a succession of three such waves (agricultural, industrial and post-industrial). The idea is of immense power,\n",
            "unstoppable, moving inexorably towards us as we cower before its immensity, much as the dinosaurs must have done when they saw the mile-high tsunami\n",
            "heading in their direction.Mustafa Suleyman says he is not a determinist, but at times he sounds awfully like one. “At its heart,” he writes at one\n",
            "point, “technology emerges to fill human needs. If people have powerful reasons to build and use it, it will get built and used. Yet in most\n",
            "discussions of technology people still get stuck on what it is, forgetting why it was created in the first place. This is not about some innate\n",
            "techno-determinism. This is about what it means to be human.” The oncoming wave in his title is “defined by two core technologies: artificial\n",
            "intelligence (AI) and synthetic biology”, and it’s the conjunction of the two that makes it intriguing and original. Together, he thinks, these two\n",
            "“will usher in a new dawn for humanity, creating wealth and surplus unlike anything ever seen. And yet their rapid proliferation also threatens to\n",
            "empower a diverse array of bad actors to unleash disruption, instability, and even catastrophe on an unimaginable scale.” Our future, apparently,\n",
            "“both depends on these technologies and is imperilled by them”. Once you get past this hyperbolic prologue, the book settles down into a serious\n",
            "exploration of what the future might hold for us all. Suleyman’s credentials for the task are good: he was co-founder of DeepMind, arguably the\n",
            "smartest AI company around, but he has also worked in the charitable sector, in British local government, and at Google – where he worked on the\n",
            "company’s large language models (LLMs) and the thankless task of trying to persuade the search behemoth to take ethics seriously. Although he hasn’t\n",
            "worked in molecular biology, his account of DNA sequencing, gene editing and the design and manufacture of new genetic products seems well-informed\n",
            "and supports his case that AI and computational biology are the twin challenges that will soon confront societies.\n",
            "\n",
            "\n",
            "time: 19.3 ms (started: 2024-09-10 06:44:56 +00:00)\n"
          ]
        }
      ],
      "source": [
        "from textwrap3 import wrap\n",
        "text = \"\"\"The DeepMind co-founder calls for the ‘containment’ of new technology in a heartfelt and candid exploration of what the future may hold for us.What is it with wave metaphors? Technological determinists – people who believe that technology drives history – love them. Think of Alvin Toffler, who saw the history of civilisation as a succession of three such waves (agricultural, industrial and post-industrial). The idea is of immense power, unstoppable, moving inexorably towards us as we cower before its immensity, much as the dinosaurs must have done when they saw the mile-high tsunami heading in their direction.Mustafa Suleyman says he is not a determinist, but at times he sounds awfully like one. “At its heart,” he writes at one point, “technology emerges to fill human needs. If people have powerful reasons to build and use it, it will get built and used. Yet in most discussions of technology people still get stuck on what it is, forgetting why it was created in the first place. This is not about some innate techno-determinism. This is about what it means to be human.”\n",
        "The oncoming wave in his title is “defined by two core technologies: artificial intelligence (AI) and synthetic biology”, and it’s the conjunction of the two that makes it intriguing and original. Together, he thinks, these two “will usher in a new dawn for humanity, creating wealth and surplus unlike anything ever seen. And yet their rapid proliferation also threatens to empower a diverse array of bad actors to unleash disruption, instability, and even catastrophe on an unimaginable scale.” Our future, apparently, “both depends on these technologies and is imperilled by them”.\n",
        "Once you get past this hyperbolic prologue, the book settles down into a serious exploration of what the future might hold for us all. Suleyman’s credentials for the task are good: he was co-founder of DeepMind, arguably the smartest AI company around, but he has also worked in the charitable sector, in British local government, and at Google – where he worked on the company’s large language models (LLMs) and the thankless task of trying to persuade the search behemoth to take ethics seriously. Although he hasn’t worked in molecular biology, his account of DNA sequencing, gene editing and the design and manufacture of new genetic products seems well-informed and supports his case that AI and computational biology are the twin challenges that will soon confront societies.\"\"\"\n",
        "\n",
        "for wrp in wrap(text, 150):\n",
        "  print (wrp)\n",
        "print (\"\\n\")"
      ]
    },
    {
      "cell_type": "markdown",
      "source": [
        "### Sample 2"
      ],
      "metadata": {
        "id": "c656cd31"
      },
      "id": "c656cd31"
    },
    {
      "cell_type": "code",
      "execution_count": 6,
      "id": "39c1c556",
      "metadata": {
        "id": "39c1c556",
        "colab": {
          "base_uri": "https://localhost:8080/"
        },
        "outputId": "61f6ac2e-9e22-4a56-d0a5-df9a04e183e8"
      },
      "outputs": [
        {
          "output_type": "stream",
          "name": "stdout",
          "text": [
            "Nestled in the southern part of India, Bangalore stands as a dynamic and multifaceted city that has captivated the nation and the world alike. Fondly\n",
            "known as the \"Garden City of India,\" Bangalore's lush greenery, pleasant climate, and diverse culture offer a striking contrast to its bustling\n",
            "technological advancements. At the heart of Bangalore's allure lies its status as the \"Silicon Valley of India.\" The city's booming IT sector has\n",
            "earned it global recognition as a tech innovation hub. With its towering glass buildings and modern infrastructure, Bangalore showcases India's\n",
            "prowess in software development and cutting-edge technologies. Countless startups, global corporations, and research institutions have found their\n",
            "home within its limits, making it a thriving center of creativity and invention. But Bangalore's appeal extends far beyond its technological\n",
            "achievements. The city's historical legacy is visible in its architectural marvels such as the Bangalore Palace, which offers a glimpse into its royal\n",
            "past. The renowned Lalbagh Botanical Garden stands as a testament to the city's commitment to preserving nature amid urbanization. Bangalore's\n",
            "educational institutions are equally celebrated, housing some of the country's most prestigious universities and research centers. Culturally,\n",
            "Bangalore is a melting pot, where traditions blend harmoniously with contemporary lifestyles. The city's diverse population contributes to its rich\n",
            "tapestry of languages, cuisine, festivals, and art forms. Whether it's enjoying a traditional South Indian meal at a local eatery or attending a\n",
            "global music festival, Bangalore's cultural  experiences are as vibrant as they are varied.In essence, Bangalore exemplifies the harmonious\n",
            "coexistence of tradition and innovation. As India's tech capital,  it propels the nation forward in the digital age, while its cultural heritage\n",
            "reminds us of the importance of preserving history and embracing diversity. Bangalore's allure lies in its ability to encapsulate the best of both\n",
            "worlds, making it a city that continues to capture hearts and imaginations.\n",
            "\n",
            "\n",
            "time: 11 ms (started: 2024-09-10 06:44:59 +00:00)\n"
          ]
        }
      ],
      "source": [
        "text = \"\"\"Nestled in the southern part of India, Bangalore stands as a dynamic and multifaceted city that has captivated the nation and the world alike.\n",
        "Fondly known as the \"Garden City of India,\" Bangalore's lush greenery, pleasant climate, and diverse culture offer a striking contrast to its bustling technological advancements.\n",
        "At the heart of Bangalore's allure lies its status as the \"Silicon Valley of India.\" The city's booming IT sector has earned it global recognition as a tech innovation hub.\n",
        "With its towering glass buildings and modern infrastructure, Bangalore showcases India's prowess in software development and cutting-edge technologies. Countless startups,\n",
        "global corporations, and research institutions have found their home within its limits, making it a thriving center of creativity and invention.\n",
        "But Bangalore's appeal extends far beyond its technological achievements. The city's historical legacy is visible in its architectural marvels such as the Bangalore Palace,\n",
        "which offers a glimpse into its royal past. The renowned Lalbagh Botanical Garden stands as a testament to the city's commitment to preserving nature amid urbanization.\n",
        "Bangalore's educational institutions are equally celebrated, housing some of the country's most prestigious universities and research centers.\n",
        "Culturally, Bangalore is a melting pot, where traditions blend harmoniously with contemporary lifestyles. The city's diverse population contributes to its rich tapestry of\n",
        "languages, cuisine, festivals, and art forms. Whether it's enjoying a traditional South Indian meal at a local eatery or attending a global music festival, Bangalore's cultural\n",
        " experiences are as vibrant as they are varied.In essence, Bangalore exemplifies the harmonious coexistence of tradition and innovation. As India's tech capital,\n",
        " it propels the nation forward in the digital age, while its cultural heritage reminds us of the importance of preserving history and embracing diversity. Bangalore's allure lies in its ability to encapsulate the best of both worlds, making it a city that continues to capture hearts and imaginations.\n",
        "\n",
        " \"\"\"\n",
        "for wrp in wrap(text, 150):\n",
        "  print (wrp)\n",
        "print (\"\\n\")"
      ]
    },
    {
      "cell_type": "markdown",
      "id": "fed0120a",
      "metadata": {
        "id": "fed0120a"
      },
      "source": [
        "### Summarization with T5\n",
        "learn more about T5 @ https://huggingface.co/docs/transformers/model_doc/t5\n",
        "\n",
        "**T5 is an encoder-decoder model pre-trained on a multi-task mixture of unsupervised and supervised tasks and for which each task is converted into a text-to-text format. T5 works well on a variety of tasks out-of-the-box by prepending a different prefix to the input corresponding to each task, e.g., for translation,summarization..**"
      ]
    },
    {
      "cell_type": "markdown",
      "id": "e825856f",
      "metadata": {
        "id": "e825856f"
      },
      "source": [
        "________________________________________________________________________\n",
        "Why: This below code snippet sets up the environment and tools required for performing text summarization using the T5 model from the Hugging Face Transformers library. It's crucial to configure your environment, load the necessary model and tokenizer, and allocate resources (CPU or GPU) for the computation.\n",
        "\n",
        "Where: Place this code snippet at the beginning of your project, before you start using the model and tokenizer for text summarization tasks.\n",
        "________________________________________________________________________\n"
      ]
    },
    {
      "cell_type": "code",
      "source": [
        "!pip install --upgrade pip setuptools\n",
        "# Sometimes while Installing you might face some Installation issues so try running these commands"
      ],
      "metadata": {
        "colab": {
          "base_uri": "https://localhost:8080/"
        },
        "id": "A2z5aIx-IyRl",
        "outputId": "9ad2c2e3-d203-4157-90a6-4c79220f2bdb"
      },
      "id": "A2z5aIx-IyRl",
      "execution_count": 7,
      "outputs": [
        {
          "output_type": "stream",
          "name": "stdout",
          "text": [
            "Requirement already satisfied: pip in /usr/local/lib/python3.10/dist-packages (24.2)\n",
            "Requirement already satisfied: setuptools in /usr/local/lib/python3.10/dist-packages (74.1.2)\n",
            "time: 7.86 s (started: 2024-09-10 06:45:03 +00:00)\n"
          ]
        }
      ]
    },
    {
      "cell_type": "code",
      "source": [
        "!apt-get -qq install libpython3.7-dev\n"
      ],
      "metadata": {
        "colab": {
          "base_uri": "https://localhost:8080/"
        },
        "id": "f5nYxn7_I0QV",
        "outputId": "ef4251fa-e19d-499c-bf29-beb74dd3d1fb"
      },
      "id": "f5nYxn7_I0QV",
      "execution_count": 8,
      "outputs": [
        {
          "output_type": "stream",
          "name": "stdout",
          "text": [
            "Selecting previously unselected package libpython3.7-minimal:amd64.\n",
            "(Reading database ... 123597 files and directories currently installed.)\n",
            "Preparing to unpack .../0-libpython3.7-minimal_3.7.17-1+jammy1_amd64.deb ...\n",
            "Unpacking libpython3.7-minimal:amd64 (3.7.17-1+jammy1) ...\n",
            "Selecting previously unselected package mailcap.\n",
            "Preparing to unpack .../1-mailcap_3.70+nmu1ubuntu1_all.deb ...\n",
            "Unpacking mailcap (3.70+nmu1ubuntu1) ...\n",
            "Selecting previously unselected package mime-support.\n",
            "Preparing to unpack .../2-mime-support_3.66_all.deb ...\n",
            "Unpacking mime-support (3.66) ...\n",
            "Selecting previously unselected package libpython3.7-stdlib:amd64.\n",
            "Preparing to unpack .../3-libpython3.7-stdlib_3.7.17-1+jammy1_amd64.deb ...\n",
            "Unpacking libpython3.7-stdlib:amd64 (3.7.17-1+jammy1) ...\n",
            "Selecting previously unselected package libpython3.7:amd64.\n",
            "Preparing to unpack .../4-libpython3.7_3.7.17-1+jammy1_amd64.deb ...\n",
            "Unpacking libpython3.7:amd64 (3.7.17-1+jammy1) ...\n",
            "Selecting previously unselected package libpython3.7-dev:amd64.\n",
            "Preparing to unpack .../5-libpython3.7-dev_3.7.17-1+jammy1_amd64.deb ...\n",
            "Unpacking libpython3.7-dev:amd64 (3.7.17-1+jammy1) ...\n",
            "Setting up libpython3.7-minimal:amd64 (3.7.17-1+jammy1) ...\n",
            "Setting up mailcap (3.70+nmu1ubuntu1) ...\n",
            "Setting up mime-support (3.66) ...\n",
            "Setting up libpython3.7-stdlib:amd64 (3.7.17-1+jammy1) ...\n",
            "Setting up libpython3.7:amd64 (3.7.17-1+jammy1) ...\n",
            "Setting up libpython3.7-dev:amd64 (3.7.17-1+jammy1) ...\n",
            "Processing triggers for man-db (2.10.2-1) ...\n",
            "time: 24.3 s (started: 2024-09-10 06:45:13 +00:00)\n"
          ]
        }
      ]
    },
    {
      "cell_type": "code",
      "source": [
        "!pip install  transformers"
      ],
      "metadata": {
        "colab": {
          "base_uri": "https://localhost:8080/"
        },
        "id": "-_SXxurLIKFH",
        "outputId": "d09c9666-26d7-47db-d375-0f88c7d95e33"
      },
      "id": "-_SXxurLIKFH",
      "execution_count": 9,
      "outputs": [
        {
          "output_type": "stream",
          "name": "stdout",
          "text": [
            "Requirement already satisfied: transformers in /usr/local/lib/python3.10/dist-packages (4.44.2)\n",
            "Requirement already satisfied: filelock in /usr/local/lib/python3.10/dist-packages (from transformers) (3.15.4)\n",
            "Requirement already satisfied: huggingface-hub<1.0,>=0.23.2 in /usr/local/lib/python3.10/dist-packages (from transformers) (0.24.6)\n",
            "Requirement already satisfied: numpy>=1.17 in /usr/local/lib/python3.10/dist-packages (from transformers) (1.26.4)\n",
            "Requirement already satisfied: packaging>=20.0 in /usr/local/lib/python3.10/dist-packages (from transformers) (24.1)\n",
            "Requirement already satisfied: pyyaml>=5.1 in /usr/local/lib/python3.10/dist-packages (from transformers) (6.0.2)\n",
            "Requirement already satisfied: regex!=2019.12.17 in /usr/local/lib/python3.10/dist-packages (from transformers) (2024.5.15)\n",
            "Requirement already satisfied: requests in /usr/local/lib/python3.10/dist-packages (from transformers) (2.32.3)\n",
            "Requirement already satisfied: safetensors>=0.4.1 in /usr/local/lib/python3.10/dist-packages (from transformers) (0.4.4)\n",
            "Requirement already satisfied: tokenizers<0.20,>=0.19 in /usr/local/lib/python3.10/dist-packages (from transformers) (0.19.1)\n",
            "Requirement already satisfied: tqdm>=4.27 in /usr/local/lib/python3.10/dist-packages (from transformers) (4.66.5)\n",
            "Requirement already satisfied: fsspec>=2023.5.0 in /usr/local/lib/python3.10/dist-packages (from huggingface-hub<1.0,>=0.23.2->transformers) (2024.6.1)\n",
            "Requirement already satisfied: typing-extensions>=3.7.4.3 in /usr/local/lib/python3.10/dist-packages (from huggingface-hub<1.0,>=0.23.2->transformers) (4.12.2)\n",
            "Requirement already satisfied: charset-normalizer<4,>=2 in /usr/local/lib/python3.10/dist-packages (from requests->transformers) (3.3.2)\n",
            "Requirement already satisfied: idna<4,>=2.5 in /usr/local/lib/python3.10/dist-packages (from requests->transformers) (3.8)\n",
            "Requirement already satisfied: urllib3<3,>=1.21.1 in /usr/local/lib/python3.10/dist-packages (from requests->transformers) (2.0.7)\n",
            "Requirement already satisfied: certifi>=2017.4.17 in /usr/local/lib/python3.10/dist-packages (from requests->transformers) (2024.8.30)\n",
            "time: 2.92 s (started: 2024-09-10 06:45:48 +00:00)\n"
          ]
        }
      ]
    },
    {
      "cell_type": "code",
      "source": [
        "from transformers import T5ForConditionalGeneration,T5Tokenizer"
      ],
      "metadata": {
        "colab": {
          "base_uri": "https://localhost:8080/"
        },
        "id": "-rLCuGDAIHZ4",
        "outputId": "400d6010-0a49-4cf7-b487-1772feae3d0a"
      },
      "id": "-rLCuGDAIHZ4",
      "execution_count": 10,
      "outputs": [
        {
          "output_type": "stream",
          "name": "stdout",
          "text": [
            "time: 9.36 s (started: 2024-09-10 06:45:55 +00:00)\n"
          ]
        }
      ]
    },
    {
      "cell_type": "code",
      "execution_count": 11,
      "id": "ab493e3e",
      "metadata": {
        "colab": {
          "base_uri": "https://localhost:8080/",
          "height": 232,
          "referenced_widgets": [
            "b859b464c0124a60b3cec42b76382d2d",
            "2a4010f2e34c4a6eb076bff1dfe390a3",
            "ca391cae4a754be5a494245d3e1b48b5",
            "cb3b35d2f0004a7c8ca5dab1e1623f58",
            "41f375faf0a14c0b94dbc4dff2205cf6",
            "3e51f9baf0ed43e89001a83039d23512",
            "8ac4b7aac85046668364978deccc327d",
            "fe7b3f9ef0d846c395d8fc0f181b8d19",
            "0b1d5a1759b84b4e9ab4439f75c7c7ed",
            "577cd8bae9b949d4bd310fd62db88f7b",
            "886dde5836a642b0a3750b628582f1cf",
            "d8eab32edaa847009cd720787bc5175c",
            "18cee1d251d74664a93b189a66b13828",
            "8da6b2fd9efa4cc093aa056a090a432e",
            "e8f6d8a06cde4ea4a78e1d96c340a5ea",
            "437acdec5d69425885958848a240e6ef",
            "54e7898f2706464183f1445b6409b178",
            "6ee8d9888de347e9a0e0e326d73ba5e9",
            "1cf69d3d6cb24b969f7f2a3044c615da",
            "53b9e54c954e42ab9a0a5900df859682",
            "76a2fa3eee1645ff92739aee6a8d1374",
            "cf5d50036b35408696e664182fc584c1",
            "87039bca7cd24b7987334be8947a5963",
            "fca5335916f042bc87e99ecd0659fbd5",
            "8e9913f18db0480390959fe08276537d",
            "99e0c004a5b84cd6a9c4283ad0f963ec",
            "741583363f114332a2349ad3dd014474",
            "dc1ebed9fb48441c87e754887e72700c",
            "f9547236bfdd4030972f0f668c2a31dd",
            "24737cbcd300424983082435603a65d9",
            "df9d14ff077d42c48b354132282ee0fa",
            "db12503f06bc4c6a9e240cb38ccd29fe",
            "4838360659314cba85940606062f6301",
            "afad40a170cc4f7dbaa271e5dbf2cd93",
            "40f559824d424a64a0280964f40bbebf",
            "ce79e408c55b47ebbbe8ebaad5450ae2",
            "c4793572ead54eefbdd53c8105db8c35",
            "f26e428c44e34b6e8f11f6a44c8e7d5b",
            "1eb566cadb2449c2886fc21c373cade0",
            "27d55260b0154c70b11b6c741a6776e3",
            "c456d326c4064b4ca0cffd90b7d11fac",
            "f8a8fe34c3c9444da77bbd99666025e1",
            "1d41bc91ba8b4ada97a7a8a50196d09e",
            "8045693991c9407496590e7a68eb99a3",
            "b77f64c4c0d047cebecc58d13ebf3d89",
            "97191b568f884569897c75b073d80aaf",
            "570cd7da77fe42858fd099908d8709be",
            "aa0a081e5d174694a390a9fb070b4818",
            "050c81b5fe2a49d2bf6a3e653c1bd67e",
            "43ec003d16514fc8a49ae0ddc02a461d",
            "c15798a4e8b1439d867fa920664e18c3",
            "247a4adccb5f4bb0beeac600908c7e86",
            "fa1ae1da32cc414fb70959187ef92a35",
            "449ec93a140044c6bdcddefc787abf93",
            "d78f5e7c1503449fa17a2fe0daf508fe"
          ]
        },
        "id": "ab493e3e",
        "outputId": "e912d23e-0116-42a4-ee36-7b606192f1b6"
      },
      "outputs": [
        {
          "output_type": "display_data",
          "data": {
            "text/plain": [
              "config.json:   0%|          | 0.00/1.21k [00:00<?, ?B/s]"
            ],
            "application/vnd.jupyter.widget-view+json": {
              "version_major": 2,
              "version_minor": 0,
              "model_id": "b859b464c0124a60b3cec42b76382d2d"
            }
          },
          "metadata": {}
        },
        {
          "output_type": "display_data",
          "data": {
            "text/plain": [
              "model.safetensors:   0%|          | 0.00/892M [00:00<?, ?B/s]"
            ],
            "application/vnd.jupyter.widget-view+json": {
              "version_major": 2,
              "version_minor": 0,
              "model_id": "d8eab32edaa847009cd720787bc5175c"
            }
          },
          "metadata": {}
        },
        {
          "output_type": "display_data",
          "data": {
            "text/plain": [
              "generation_config.json:   0%|          | 0.00/147 [00:00<?, ?B/s]"
            ],
            "application/vnd.jupyter.widget-view+json": {
              "version_major": 2,
              "version_minor": 0,
              "model_id": "87039bca7cd24b7987334be8947a5963"
            }
          },
          "metadata": {}
        },
        {
          "output_type": "display_data",
          "data": {
            "text/plain": [
              "spiece.model:   0%|          | 0.00/792k [00:00<?, ?B/s]"
            ],
            "application/vnd.jupyter.widget-view+json": {
              "version_major": 2,
              "version_minor": 0,
              "model_id": "afad40a170cc4f7dbaa271e5dbf2cd93"
            }
          },
          "metadata": {}
        },
        {
          "output_type": "display_data",
          "data": {
            "text/plain": [
              "tokenizer.json:   0%|          | 0.00/1.39M [00:00<?, ?B/s]"
            ],
            "application/vnd.jupyter.widget-view+json": {
              "version_major": 2,
              "version_minor": 0,
              "model_id": "b77f64c4c0d047cebecc58d13ebf3d89"
            }
          },
          "metadata": {}
        },
        {
          "output_type": "stream",
          "name": "stderr",
          "text": [
            "You are using the default legacy behaviour of the <class 'transformers.models.t5.tokenization_t5.T5Tokenizer'>. This is expected, and simply means that the `legacy` (previous) behavior will be used so nothing changes for you. If you want to use the new behaviour, set `legacy=False`. This should only be set if you understand what it means, and thoroughly read the reason why this was added as explained in https://github.com/huggingface/transformers/pull/24565\n"
          ]
        },
        {
          "output_type": "stream",
          "name": "stdout",
          "text": [
            "time: 16.3 s (started: 2024-09-10 06:46:07 +00:00)\n"
          ]
        }
      ],
      "source": [
        "import torch\n",
        "# from transformers import T5ForConditionalGeneration,T5Tokenizer\n",
        "summary_model = T5ForConditionalGeneration.from_pretrained('t5-base')\n",
        "summary_tokenizer = T5Tokenizer.from_pretrained('t5-base')\n",
        "\n",
        "device = torch.device(\"cuda\" if torch.cuda.is_available() else \"cpu\")\n",
        "summary_model = summary_model.to(device)\n"
      ]
    },
    {
      "cell_type": "markdown",
      "id": "25a33c0d",
      "metadata": {
        "id": "25a33c0d"
      },
      "source": [
        "________________________________________________________________________________\n",
        "Why: This below code snippet defines a function called set_seed() and uses it to set random number generator seeds for different libraries. Setting a seed ensures that the random behavior of these libraries remains consistent across different runs, making your experiments reproducible.\n",
        "\n",
        "Where: Place this code snippet right after the environment setup and model loading code, before any random or data-related operations occur.\n",
        "_____________________________________________________________________\n",
        "\n"
      ]
    },
    {
      "cell_type": "code",
      "execution_count": 12,
      "id": "50335755",
      "metadata": {
        "colab": {
          "base_uri": "https://localhost:8080/"
        },
        "id": "50335755",
        "outputId": "9f99b931-8855-4de0-fcb9-5d354bd4fa07"
      },
      "outputs": [
        {
          "output_type": "stream",
          "name": "stdout",
          "text": [
            "time: 7.16 ms (started: 2024-09-10 06:46:32 +00:00)\n"
          ]
        }
      ],
      "source": [
        "import random\n",
        "import numpy as np\n",
        "\n",
        "def set_seed(seed: int):\n",
        "    random.seed(seed)\n",
        "    np.random.seed(seed)\n",
        "    torch.manual_seed(seed)\n",
        "    torch.cuda.manual_seed_all(seed)\n",
        "\n",
        "set_seed(42)"
      ]
    },
    {
      "cell_type": "markdown",
      "id": "6afe931a",
      "metadata": {
        "id": "6afe931a"
      },
      "source": [
        "__________________________________________________________________________\n",
        "Why:\n",
        "This below code snippet defines a summarization function using the loaded T5 model and tokenizer. The function preprocesses the input text, generates a summary using the model, post-processes the generated summary to improve readability, and then prints both the original and summarized texts.\n",
        "\n",
        "Where:\n",
        "Place this code snippet after the previously discussed sections, especially after setting up the model, tokenizer, and the seed function\n",
        "_________________________________________________________________________________"
      ]
    },
    {
      "cell_type": "code",
      "execution_count": 13,
      "id": "d15ad699",
      "metadata": {
        "colab": {
          "base_uri": "https://localhost:8080/"
        },
        "id": "d15ad699",
        "outputId": "4f05f53e-e0a0-4b82-ea70-d51d1f249f41"
      },
      "outputs": [
        {
          "output_type": "stream",
          "name": "stdout",
          "text": [
            "[nltk_data] Downloading package punkt to /root/nltk_data...\n",
            "[nltk_data]   Unzipping tokenizers/punkt.zip.\n",
            "[nltk_data] Downloading package brown to /root/nltk_data...\n",
            "[nltk_data]   Unzipping corpora/brown.zip.\n",
            "[nltk_data] Downloading package wordnet to /root/nltk_data...\n",
            "\n",
            "original Text >>\n",
            "Nestled in the southern part of India, Bangalore stands as a dynamic and multifaceted city that has captivated the nation and the world alike. Fondly\n",
            "known as the \"Garden City of India,\" Bangalore's lush greenery, pleasant climate, and diverse culture offer a striking contrast to its bustling\n",
            "technological advancements. At the heart of Bangalore's allure lies its status as the \"Silicon Valley of India.\" The city's booming IT sector has\n",
            "earned it global recognition as a tech innovation hub. With its towering glass buildings and modern infrastructure, Bangalore showcases India's\n",
            "prowess in software development and cutting-edge technologies. Countless startups, global corporations, and research institutions have found their\n",
            "home within its limits, making it a thriving center of creativity and invention. But Bangalore's appeal extends far beyond its technological\n",
            "achievements. The city's historical legacy is visible in its architectural marvels such as the Bangalore Palace, which offers a glimpse into its royal\n",
            "past. The renowned Lalbagh Botanical Garden stands as a testament to the city's commitment to preserving nature amid urbanization. Bangalore's\n",
            "educational institutions are equally celebrated, housing some of the country's most prestigious universities and research centers. Culturally,\n",
            "Bangalore is a melting pot, where traditions blend harmoniously with contemporary lifestyles. The city's diverse population contributes to its rich\n",
            "tapestry of languages, cuisine, festivals, and art forms. Whether it's enjoying a traditional South Indian meal at a local eatery or attending a\n",
            "global music festival, Bangalore's cultural  experiences are as vibrant as they are varied.In essence, Bangalore exemplifies the harmonious\n",
            "coexistence of tradition and innovation. As India's tech capital,  it propels the nation forward in the digital age, while its cultural heritage\n",
            "reminds us of the importance of preserving history and embracing diversity. Bangalore's allure lies in its ability to encapsulate the best of both\n",
            "worlds, making it a city that continues to capture hearts and imaginations.\n",
            "\n",
            "\n",
            "Summarized Text >>\n",
            "Fondly known as the \"garden city of india,\" bangalore has captivated the nation and the world alike. The city's booming it sector has earned it global\n",
            "recognition as a tech innovation hub. Its cultural experiences are as vibrant as they are varied. It is an example of the harmonious coexistence of\n",
            "tradition and innovation, says naomi gupta.\n",
            "\n",
            "\n",
            "time: 23.1 s (started: 2024-09-10 06:46:35 +00:00)\n"
          ]
        }
      ],
      "source": [
        "import nltk\n",
        "nltk.download('punkt')\n",
        "nltk.download('brown')\n",
        "nltk.download('wordnet')\n",
        "from nltk.corpus import wordnet as wn\n",
        "from nltk.tokenize import sent_tokenize\n",
        "\n",
        "def postprocesstext (content):\n",
        "  final=\"\"\n",
        "  for sent in sent_tokenize(content):\n",
        "    sent = sent.capitalize()\n",
        "    final = final +\" \"+sent\n",
        "  return final\n",
        "\n",
        "\n",
        "def summarizer(text,model,tokenizer):\n",
        "  text = text.strip().replace(\"\\n\",\" \")\n",
        "  text = \"summarize: \"+text\n",
        "  # print (text)\n",
        "  max_len = 512\n",
        "  encoding = tokenizer.encode_plus(text,max_length=max_len, pad_to_max_length=False,truncation=True, return_tensors=\"pt\").to(device)\n",
        "\n",
        "  input_ids, attention_mask = encoding[\"input_ids\"], encoding[\"attention_mask\"]\n",
        "\n",
        "  outs = model.generate(input_ids=input_ids,\n",
        "                                  attention_mask=attention_mask,\n",
        "                                  early_stopping=True,\n",
        "                                  num_beams=3,\n",
        "                                  num_return_sequences=1,\n",
        "                                  no_repeat_ngram_size=2,\n",
        "                                  min_length = 75,\n",
        "                                  max_length=300)\n",
        "\n",
        "\n",
        "  dec = [tokenizer.decode(ids,skip_special_tokens=True) for ids in outs]\n",
        "  summary = dec[0]\n",
        "  summary = postprocesstext(summary)\n",
        "  summary= summary.strip()\n",
        "\n",
        "  return summary\n",
        "\n",
        "\n",
        "summarized_text = summarizer(text,summary_model,summary_tokenizer)\n",
        "\n",
        "\n",
        "print (\"\\noriginal Text >>\")\n",
        "for wrp in wrap(text, 150):\n",
        "  print (wrp)\n",
        "print (\"\\n\")\n",
        "print (\"Summarized Text >>\")\n",
        "for wrp in wrap(summarized_text, 150):\n",
        "  print (wrp)\n",
        "print (\"\\n\")"
      ]
    },
    {
      "cell_type": "markdown",
      "source": [
        "### We Can clearly Observe that the Orginal Article Size was 10-15 lines now  it is Summarised to 4 lines that to including all Context"
      ],
      "metadata": {
        "id": "54f14a5f"
      },
      "id": "54f14a5f"
    },
    {
      "cell_type": "markdown",
      "source": [
        "**Lets Try Sample 2**"
      ],
      "metadata": {
        "id": "dd8Lz4IgJ-0d"
      },
      "id": "dd8Lz4IgJ-0d"
    },
    {
      "cell_type": "code",
      "source": [
        "text = \"\"\"Nestled in the southern part of India, Bangalore stands as a dynamic and multifaceted city that has captivated the nation and the world alike.\n",
        "Fondly known as the \"Garden City of India,\" Bangalore's lush greenery, pleasant climate, and diverse culture offer a striking contrast to its bustling technological advancements.\n",
        "At the heart of Bangalore's allure lies its status as the \"Silicon Valley of India.\" The city's booming IT sector has earned it global recognition as a tech innovation hub.\n",
        "With its towering glass buildings and modern infrastructure, Bangalore showcases India's prowess in software development and cutting-edge technologies. Countless startups,\n",
        "global corporations, and research institutions have found their home within its limits, making it a thriving center of creativity and invention.\n",
        "But Bangalore's appeal extends far beyond its technological achievements. The city's historical legacy is visible in its architectural marvels such as the Bangalore Palace,\n",
        "which offers a glimpse into its royal past. The renowned Lalbagh Botanical Garden stands as a testament to the city's commitment to preserving nature amid urbanization.\n",
        "Bangalore's educational institutions are equally celebrated, housing some of the country's most prestigious universities and research centers.\n",
        "Culturally, Bangalore is a melting pot, where traditions blend harmoniously with contemporary lifestyles. The city's diverse population contributes to its rich tapestry of\n",
        "languages, cuisine, festivals, and art forms. Whether it's enjoying a traditional South Indian meal at a local eatery or attending a global music festival, Bangalore's cultural\n",
        " experiences are as vibrant as they are varied.In essence, Bangalore exemplifies the harmonious coexistence of tradition and innovation. As India's tech capital,\n",
        " it propels the nation forward in the digital age, while its cultural heritage reminds us of the importance of preserving history and embracing diversity. Bangalore's allure lies in its ability to encapsulate the best of both worlds, making it a city that continues to capture hearts and imaginations.\n",
        "\n",
        " \"\"\"\n",
        "for wrp in wrap(text, 150):\n",
        "  print (wrp)\n",
        "print (\"\\n\")"
      ],
      "metadata": {
        "colab": {
          "base_uri": "https://localhost:8080/"
        },
        "id": "9EhcoTJiKHum",
        "outputId": "b30e9e63-26a1-4e4a-c33a-5aee2ca2b5a5"
      },
      "id": "9EhcoTJiKHum",
      "execution_count": 14,
      "outputs": [
        {
          "output_type": "stream",
          "name": "stdout",
          "text": [
            "Nestled in the southern part of India, Bangalore stands as a dynamic and multifaceted city that has captivated the nation and the world alike. Fondly\n",
            "known as the \"Garden City of India,\" Bangalore's lush greenery, pleasant climate, and diverse culture offer a striking contrast to its bustling\n",
            "technological advancements. At the heart of Bangalore's allure lies its status as the \"Silicon Valley of India.\" The city's booming IT sector has\n",
            "earned it global recognition as a tech innovation hub. With its towering glass buildings and modern infrastructure, Bangalore showcases India's\n",
            "prowess in software development and cutting-edge technologies. Countless startups, global corporations, and research institutions have found their\n",
            "home within its limits, making it a thriving center of creativity and invention. But Bangalore's appeal extends far beyond its technological\n",
            "achievements. The city's historical legacy is visible in its architectural marvels such as the Bangalore Palace, which offers a glimpse into its royal\n",
            "past. The renowned Lalbagh Botanical Garden stands as a testament to the city's commitment to preserving nature amid urbanization. Bangalore's\n",
            "educational institutions are equally celebrated, housing some of the country's most prestigious universities and research centers. Culturally,\n",
            "Bangalore is a melting pot, where traditions blend harmoniously with contemporary lifestyles. The city's diverse population contributes to its rich\n",
            "tapestry of languages, cuisine, festivals, and art forms. Whether it's enjoying a traditional South Indian meal at a local eatery or attending a\n",
            "global music festival, Bangalore's cultural  experiences are as vibrant as they are varied.In essence, Bangalore exemplifies the harmonious\n",
            "coexistence of tradition and innovation. As India's tech capital,  it propels the nation forward in the digital age, while its cultural heritage\n",
            "reminds us of the importance of preserving history and embracing diversity. Bangalore's allure lies in its ability to encapsulate the best of both\n",
            "worlds, making it a city that continues to capture hearts and imaginations.\n",
            "\n",
            "\n",
            "time: 3.34 ms (started: 2024-09-10 06:47:03 +00:00)\n"
          ]
        }
      ]
    },
    {
      "cell_type": "markdown",
      "source": [],
      "metadata": {
        "id": "3RGo7YPlMNZj"
      },
      "id": "3RGo7YPlMNZj"
    },
    {
      "cell_type": "code",
      "source": [
        "# import nltk\n",
        "# nltk.download('punkt')\n",
        "# nltk.download('brown')\n",
        "# nltk.download('wordnet')\n",
        "# from nltk.corpus import wordnet as wn\n",
        "# from nltk.tokenize import sent_tokenize\n",
        "\n",
        "def postprocesstext (content):\n",
        "  final=\"\"\n",
        "  for sent in sent_tokenize(content):\n",
        "    sent = sent.capitalize()\n",
        "    final = final +\" \"+sent\n",
        "  return final\n",
        "\n",
        "\n",
        "def summarizer(text,model,tokenizer):\n",
        "  text = text.strip().replace(\"\\n\",\" \")\n",
        "  text = \"summarize: \"+text\n",
        "  # print (text)\n",
        "  max_len = 512\n",
        "  encoding = tokenizer.encode_plus(text,max_length=max_len, pad_to_max_length=False,truncation=True, return_tensors=\"pt\").to(device)\n",
        "\n",
        "  input_ids, attention_mask = encoding[\"input_ids\"], encoding[\"attention_mask\"]\n",
        "\n",
        "  outs = model.generate(input_ids=input_ids,\n",
        "                                  attention_mask=attention_mask,\n",
        "                                  early_stopping=True,\n",
        "                                  num_beams=3,\n",
        "                                  num_return_sequences=1,\n",
        "                                  no_repeat_ngram_size=2,\n",
        "                                  min_length = 75,\n",
        "                                  max_length=300)\n",
        "\n",
        "\n",
        "  dec = [tokenizer.decode(ids,skip_special_tokens=True) for ids in outs]\n",
        "  summary = dec[0]\n",
        "  summary = postprocesstext(summary)\n",
        "  summary= summary.strip()\n",
        "\n",
        "  return summary\n",
        "\n",
        "\n",
        "summarized_text = summarizer(text,summary_model,summary_tokenizer)\n",
        "\n",
        "\n",
        "print (\"\\noriginal Text >>\")\n",
        "for wrp in wrap(text, 150):\n",
        "  print (wrp)\n",
        "print (\"\\n\")\n",
        "print (\"Summarized Text >>\")\n",
        "for wrp in wrap(summarized_text, 150):\n",
        "  print (wrp)\n",
        "print (\"\\n\")"
      ],
      "metadata": {
        "colab": {
          "base_uri": "https://localhost:8080/"
        },
        "id": "cNQCQsW6LH7V",
        "outputId": "5ae6f9b6-b599-43a5-f767-3b1eb357c1be"
      },
      "id": "cNQCQsW6LH7V",
      "execution_count": 15,
      "outputs": [
        {
          "output_type": "stream",
          "name": "stdout",
          "text": [
            "\n",
            "original Text >>\n",
            "Nestled in the southern part of India, Bangalore stands as a dynamic and multifaceted city that has captivated the nation and the world alike. Fondly\n",
            "known as the \"Garden City of India,\" Bangalore's lush greenery, pleasant climate, and diverse culture offer a striking contrast to its bustling\n",
            "technological advancements. At the heart of Bangalore's allure lies its status as the \"Silicon Valley of India.\" The city's booming IT sector has\n",
            "earned it global recognition as a tech innovation hub. With its towering glass buildings and modern infrastructure, Bangalore showcases India's\n",
            "prowess in software development and cutting-edge technologies. Countless startups, global corporations, and research institutions have found their\n",
            "home within its limits, making it a thriving center of creativity and invention. But Bangalore's appeal extends far beyond its technological\n",
            "achievements. The city's historical legacy is visible in its architectural marvels such as the Bangalore Palace, which offers a glimpse into its royal\n",
            "past. The renowned Lalbagh Botanical Garden stands as a testament to the city's commitment to preserving nature amid urbanization. Bangalore's\n",
            "educational institutions are equally celebrated, housing some of the country's most prestigious universities and research centers. Culturally,\n",
            "Bangalore is a melting pot, where traditions blend harmoniously with contemporary lifestyles. The city's diverse population contributes to its rich\n",
            "tapestry of languages, cuisine, festivals, and art forms. Whether it's enjoying a traditional South Indian meal at a local eatery or attending a\n",
            "global music festival, Bangalore's cultural  experiences are as vibrant as they are varied.In essence, Bangalore exemplifies the harmonious\n",
            "coexistence of tradition and innovation. As India's tech capital,  it propels the nation forward in the digital age, while its cultural heritage\n",
            "reminds us of the importance of preserving history and embracing diversity. Bangalore's allure lies in its ability to encapsulate the best of both\n",
            "worlds, making it a city that continues to capture hearts and imaginations.\n",
            "\n",
            "\n",
            "Summarized Text >>\n",
            "Fondly known as the \"garden city of india,\" bangalore has captivated the nation and the world alike. The city's booming it sector has earned it global\n",
            "recognition as a tech innovation hub. Its cultural experiences are as vibrant as they are varied. It is an example of the harmonious coexistence of\n",
            "tradition and innovation, says naomi gupta.\n",
            "\n",
            "\n",
            "time: 21.1 s (started: 2024-09-10 06:47:08 +00:00)\n"
          ]
        }
      ]
    },
    {
      "cell_type": "markdown",
      "source": [
        "# Enhancements and Future Scope\n",
        "\n",
        "1. **Evaluation Metrics:** Implement metrics like ROUGE to quantitatively evaluate the quality of generated summaries.\n",
        "2. **Abstractive Summarization:** Experiment with abstractive summarization approaches to create more human-like summaries.\n",
        "3. **Fine-Tuning:** Fine-tune the T5 model on specific datasets to improve summarization performance for domain-specific texts.\n",
        "4. **Interactive UI:** Create an interactive user interface for users to input text and get instant summaries.\n",
        "5. **Multilingual Support:** Extend the project to support summarization in multiple languages."
      ],
      "metadata": {
        "id": "7qb_ytQ3QidR"
      },
      "id": "7qb_ytQ3QidR"
    },
    {
      "cell_type": "markdown",
      "source": [
        "___________________________\n",
        "# **THANK YOU**\n",
        "__________________________"
      ],
      "metadata": {
        "id": "B0NmL7o0MNUe"
      },
      "id": "B0NmL7o0MNUe"
    }
  ],
  "metadata": {
    "kernelspec": {
      "display_name": "Python 3 (ipykernel)",
      "language": "python",
      "name": "python3"
    },
    "language_info": {
      "codemirror_mode": {
        "name": "ipython",
        "version": 3
      },
      "file_extension": ".py",
      "mimetype": "text/x-python",
      "name": "python",
      "nbconvert_exporter": "python",
      "pygments_lexer": "ipython3",
      "version": "3.9.12"
    },
    "colab": {
      "provenance": [],
      "include_colab_link": true
    },
    "widgets": {
      "application/vnd.jupyter.widget-state+json": {
        "b859b464c0124a60b3cec42b76382d2d": {
          "model_module": "@jupyter-widgets/controls",
          "model_name": "HBoxModel",
          "model_module_version": "1.5.0",
          "state": {
            "_dom_classes": [],
            "_model_module": "@jupyter-widgets/controls",
            "_model_module_version": "1.5.0",
            "_model_name": "HBoxModel",
            "_view_count": null,
            "_view_module": "@jupyter-widgets/controls",
            "_view_module_version": "1.5.0",
            "_view_name": "HBoxView",
            "box_style": "",
            "children": [
              "IPY_MODEL_2a4010f2e34c4a6eb076bff1dfe390a3",
              "IPY_MODEL_ca391cae4a754be5a494245d3e1b48b5",
              "IPY_MODEL_cb3b35d2f0004a7c8ca5dab1e1623f58"
            ],
            "layout": "IPY_MODEL_41f375faf0a14c0b94dbc4dff2205cf6"
          }
        },
        "2a4010f2e34c4a6eb076bff1dfe390a3": {
          "model_module": "@jupyter-widgets/controls",
          "model_name": "HTMLModel",
          "model_module_version": "1.5.0",
          "state": {
            "_dom_classes": [],
            "_model_module": "@jupyter-widgets/controls",
            "_model_module_version": "1.5.0",
            "_model_name": "HTMLModel",
            "_view_count": null,
            "_view_module": "@jupyter-widgets/controls",
            "_view_module_version": "1.5.0",
            "_view_name": "HTMLView",
            "description": "",
            "description_tooltip": null,
            "layout": "IPY_MODEL_3e51f9baf0ed43e89001a83039d23512",
            "placeholder": "​",
            "style": "IPY_MODEL_8ac4b7aac85046668364978deccc327d",
            "value": "config.json: 100%"
          }
        },
        "ca391cae4a754be5a494245d3e1b48b5": {
          "model_module": "@jupyter-widgets/controls",
          "model_name": "FloatProgressModel",
          "model_module_version": "1.5.0",
          "state": {
            "_dom_classes": [],
            "_model_module": "@jupyter-widgets/controls",
            "_model_module_version": "1.5.0",
            "_model_name": "FloatProgressModel",
            "_view_count": null,
            "_view_module": "@jupyter-widgets/controls",
            "_view_module_version": "1.5.0",
            "_view_name": "ProgressView",
            "bar_style": "success",
            "description": "",
            "description_tooltip": null,
            "layout": "IPY_MODEL_fe7b3f9ef0d846c395d8fc0f181b8d19",
            "max": 1208,
            "min": 0,
            "orientation": "horizontal",
            "style": "IPY_MODEL_0b1d5a1759b84b4e9ab4439f75c7c7ed",
            "value": 1208
          }
        },
        "cb3b35d2f0004a7c8ca5dab1e1623f58": {
          "model_module": "@jupyter-widgets/controls",
          "model_name": "HTMLModel",
          "model_module_version": "1.5.0",
          "state": {
            "_dom_classes": [],
            "_model_module": "@jupyter-widgets/controls",
            "_model_module_version": "1.5.0",
            "_model_name": "HTMLModel",
            "_view_count": null,
            "_view_module": "@jupyter-widgets/controls",
            "_view_module_version": "1.5.0",
            "_view_name": "HTMLView",
            "description": "",
            "description_tooltip": null,
            "layout": "IPY_MODEL_577cd8bae9b949d4bd310fd62db88f7b",
            "placeholder": "​",
            "style": "IPY_MODEL_886dde5836a642b0a3750b628582f1cf",
            "value": " 1.21k/1.21k [00:00&lt;00:00, 31.7kB/s]"
          }
        },
        "41f375faf0a14c0b94dbc4dff2205cf6": {
          "model_module": "@jupyter-widgets/base",
          "model_name": "LayoutModel",
          "model_module_version": "1.2.0",
          "state": {
            "_model_module": "@jupyter-widgets/base",
            "_model_module_version": "1.2.0",
            "_model_name": "LayoutModel",
            "_view_count": null,
            "_view_module": "@jupyter-widgets/base",
            "_view_module_version": "1.2.0",
            "_view_name": "LayoutView",
            "align_content": null,
            "align_items": null,
            "align_self": null,
            "border": null,
            "bottom": null,
            "display": null,
            "flex": null,
            "flex_flow": null,
            "grid_area": null,
            "grid_auto_columns": null,
            "grid_auto_flow": null,
            "grid_auto_rows": null,
            "grid_column": null,
            "grid_gap": null,
            "grid_row": null,
            "grid_template_areas": null,
            "grid_template_columns": null,
            "grid_template_rows": null,
            "height": null,
            "justify_content": null,
            "justify_items": null,
            "left": null,
            "margin": null,
            "max_height": null,
            "max_width": null,
            "min_height": null,
            "min_width": null,
            "object_fit": null,
            "object_position": null,
            "order": null,
            "overflow": null,
            "overflow_x": null,
            "overflow_y": null,
            "padding": null,
            "right": null,
            "top": null,
            "visibility": null,
            "width": null
          }
        },
        "3e51f9baf0ed43e89001a83039d23512": {
          "model_module": "@jupyter-widgets/base",
          "model_name": "LayoutModel",
          "model_module_version": "1.2.0",
          "state": {
            "_model_module": "@jupyter-widgets/base",
            "_model_module_version": "1.2.0",
            "_model_name": "LayoutModel",
            "_view_count": null,
            "_view_module": "@jupyter-widgets/base",
            "_view_module_version": "1.2.0",
            "_view_name": "LayoutView",
            "align_content": null,
            "align_items": null,
            "align_self": null,
            "border": null,
            "bottom": null,
            "display": null,
            "flex": null,
            "flex_flow": null,
            "grid_area": null,
            "grid_auto_columns": null,
            "grid_auto_flow": null,
            "grid_auto_rows": null,
            "grid_column": null,
            "grid_gap": null,
            "grid_row": null,
            "grid_template_areas": null,
            "grid_template_columns": null,
            "grid_template_rows": null,
            "height": null,
            "justify_content": null,
            "justify_items": null,
            "left": null,
            "margin": null,
            "max_height": null,
            "max_width": null,
            "min_height": null,
            "min_width": null,
            "object_fit": null,
            "object_position": null,
            "order": null,
            "overflow": null,
            "overflow_x": null,
            "overflow_y": null,
            "padding": null,
            "right": null,
            "top": null,
            "visibility": null,
            "width": null
          }
        },
        "8ac4b7aac85046668364978deccc327d": {
          "model_module": "@jupyter-widgets/controls",
          "model_name": "DescriptionStyleModel",
          "model_module_version": "1.5.0",
          "state": {
            "_model_module": "@jupyter-widgets/controls",
            "_model_module_version": "1.5.0",
            "_model_name": "DescriptionStyleModel",
            "_view_count": null,
            "_view_module": "@jupyter-widgets/base",
            "_view_module_version": "1.2.0",
            "_view_name": "StyleView",
            "description_width": ""
          }
        },
        "fe7b3f9ef0d846c395d8fc0f181b8d19": {
          "model_module": "@jupyter-widgets/base",
          "model_name": "LayoutModel",
          "model_module_version": "1.2.0",
          "state": {
            "_model_module": "@jupyter-widgets/base",
            "_model_module_version": "1.2.0",
            "_model_name": "LayoutModel",
            "_view_count": null,
            "_view_module": "@jupyter-widgets/base",
            "_view_module_version": "1.2.0",
            "_view_name": "LayoutView",
            "align_content": null,
            "align_items": null,
            "align_self": null,
            "border": null,
            "bottom": null,
            "display": null,
            "flex": null,
            "flex_flow": null,
            "grid_area": null,
            "grid_auto_columns": null,
            "grid_auto_flow": null,
            "grid_auto_rows": null,
            "grid_column": null,
            "grid_gap": null,
            "grid_row": null,
            "grid_template_areas": null,
            "grid_template_columns": null,
            "grid_template_rows": null,
            "height": null,
            "justify_content": null,
            "justify_items": null,
            "left": null,
            "margin": null,
            "max_height": null,
            "max_width": null,
            "min_height": null,
            "min_width": null,
            "object_fit": null,
            "object_position": null,
            "order": null,
            "overflow": null,
            "overflow_x": null,
            "overflow_y": null,
            "padding": null,
            "right": null,
            "top": null,
            "visibility": null,
            "width": null
          }
        },
        "0b1d5a1759b84b4e9ab4439f75c7c7ed": {
          "model_module": "@jupyter-widgets/controls",
          "model_name": "ProgressStyleModel",
          "model_module_version": "1.5.0",
          "state": {
            "_model_module": "@jupyter-widgets/controls",
            "_model_module_version": "1.5.0",
            "_model_name": "ProgressStyleModel",
            "_view_count": null,
            "_view_module": "@jupyter-widgets/base",
            "_view_module_version": "1.2.0",
            "_view_name": "StyleView",
            "bar_color": null,
            "description_width": ""
          }
        },
        "577cd8bae9b949d4bd310fd62db88f7b": {
          "model_module": "@jupyter-widgets/base",
          "model_name": "LayoutModel",
          "model_module_version": "1.2.0",
          "state": {
            "_model_module": "@jupyter-widgets/base",
            "_model_module_version": "1.2.0",
            "_model_name": "LayoutModel",
            "_view_count": null,
            "_view_module": "@jupyter-widgets/base",
            "_view_module_version": "1.2.0",
            "_view_name": "LayoutView",
            "align_content": null,
            "align_items": null,
            "align_self": null,
            "border": null,
            "bottom": null,
            "display": null,
            "flex": null,
            "flex_flow": null,
            "grid_area": null,
            "grid_auto_columns": null,
            "grid_auto_flow": null,
            "grid_auto_rows": null,
            "grid_column": null,
            "grid_gap": null,
            "grid_row": null,
            "grid_template_areas": null,
            "grid_template_columns": null,
            "grid_template_rows": null,
            "height": null,
            "justify_content": null,
            "justify_items": null,
            "left": null,
            "margin": null,
            "max_height": null,
            "max_width": null,
            "min_height": null,
            "min_width": null,
            "object_fit": null,
            "object_position": null,
            "order": null,
            "overflow": null,
            "overflow_x": null,
            "overflow_y": null,
            "padding": null,
            "right": null,
            "top": null,
            "visibility": null,
            "width": null
          }
        },
        "886dde5836a642b0a3750b628582f1cf": {
          "model_module": "@jupyter-widgets/controls",
          "model_name": "DescriptionStyleModel",
          "model_module_version": "1.5.0",
          "state": {
            "_model_module": "@jupyter-widgets/controls",
            "_model_module_version": "1.5.0",
            "_model_name": "DescriptionStyleModel",
            "_view_count": null,
            "_view_module": "@jupyter-widgets/base",
            "_view_module_version": "1.2.0",
            "_view_name": "StyleView",
            "description_width": ""
          }
        },
        "d8eab32edaa847009cd720787bc5175c": {
          "model_module": "@jupyter-widgets/controls",
          "model_name": "HBoxModel",
          "model_module_version": "1.5.0",
          "state": {
            "_dom_classes": [],
            "_model_module": "@jupyter-widgets/controls",
            "_model_module_version": "1.5.0",
            "_model_name": "HBoxModel",
            "_view_count": null,
            "_view_module": "@jupyter-widgets/controls",
            "_view_module_version": "1.5.0",
            "_view_name": "HBoxView",
            "box_style": "",
            "children": [
              "IPY_MODEL_18cee1d251d74664a93b189a66b13828",
              "IPY_MODEL_8da6b2fd9efa4cc093aa056a090a432e",
              "IPY_MODEL_e8f6d8a06cde4ea4a78e1d96c340a5ea"
            ],
            "layout": "IPY_MODEL_437acdec5d69425885958848a240e6ef"
          }
        },
        "18cee1d251d74664a93b189a66b13828": {
          "model_module": "@jupyter-widgets/controls",
          "model_name": "HTMLModel",
          "model_module_version": "1.5.0",
          "state": {
            "_dom_classes": [],
            "_model_module": "@jupyter-widgets/controls",
            "_model_module_version": "1.5.0",
            "_model_name": "HTMLModel",
            "_view_count": null,
            "_view_module": "@jupyter-widgets/controls",
            "_view_module_version": "1.5.0",
            "_view_name": "HTMLView",
            "description": "",
            "description_tooltip": null,
            "layout": "IPY_MODEL_54e7898f2706464183f1445b6409b178",
            "placeholder": "​",
            "style": "IPY_MODEL_6ee8d9888de347e9a0e0e326d73ba5e9",
            "value": "model.safetensors: 100%"
          }
        },
        "8da6b2fd9efa4cc093aa056a090a432e": {
          "model_module": "@jupyter-widgets/controls",
          "model_name": "FloatProgressModel",
          "model_module_version": "1.5.0",
          "state": {
            "_dom_classes": [],
            "_model_module": "@jupyter-widgets/controls",
            "_model_module_version": "1.5.0",
            "_model_name": "FloatProgressModel",
            "_view_count": null,
            "_view_module": "@jupyter-widgets/controls",
            "_view_module_version": "1.5.0",
            "_view_name": "ProgressView",
            "bar_style": "success",
            "description": "",
            "description_tooltip": null,
            "layout": "IPY_MODEL_1cf69d3d6cb24b969f7f2a3044c615da",
            "max": 891646390,
            "min": 0,
            "orientation": "horizontal",
            "style": "IPY_MODEL_53b9e54c954e42ab9a0a5900df859682",
            "value": 891646390
          }
        },
        "e8f6d8a06cde4ea4a78e1d96c340a5ea": {
          "model_module": "@jupyter-widgets/controls",
          "model_name": "HTMLModel",
          "model_module_version": "1.5.0",
          "state": {
            "_dom_classes": [],
            "_model_module": "@jupyter-widgets/controls",
            "_model_module_version": "1.5.0",
            "_model_name": "HTMLModel",
            "_view_count": null,
            "_view_module": "@jupyter-widgets/controls",
            "_view_module_version": "1.5.0",
            "_view_name": "HTMLView",
            "description": "",
            "description_tooltip": null,
            "layout": "IPY_MODEL_76a2fa3eee1645ff92739aee6a8d1374",
            "placeholder": "​",
            "style": "IPY_MODEL_cf5d50036b35408696e664182fc584c1",
            "value": " 892M/892M [00:12&lt;00:00, 115MB/s]"
          }
        },
        "437acdec5d69425885958848a240e6ef": {
          "model_module": "@jupyter-widgets/base",
          "model_name": "LayoutModel",
          "model_module_version": "1.2.0",
          "state": {
            "_model_module": "@jupyter-widgets/base",
            "_model_module_version": "1.2.0",
            "_model_name": "LayoutModel",
            "_view_count": null,
            "_view_module": "@jupyter-widgets/base",
            "_view_module_version": "1.2.0",
            "_view_name": "LayoutView",
            "align_content": null,
            "align_items": null,
            "align_self": null,
            "border": null,
            "bottom": null,
            "display": null,
            "flex": null,
            "flex_flow": null,
            "grid_area": null,
            "grid_auto_columns": null,
            "grid_auto_flow": null,
            "grid_auto_rows": null,
            "grid_column": null,
            "grid_gap": null,
            "grid_row": null,
            "grid_template_areas": null,
            "grid_template_columns": null,
            "grid_template_rows": null,
            "height": null,
            "justify_content": null,
            "justify_items": null,
            "left": null,
            "margin": null,
            "max_height": null,
            "max_width": null,
            "min_height": null,
            "min_width": null,
            "object_fit": null,
            "object_position": null,
            "order": null,
            "overflow": null,
            "overflow_x": null,
            "overflow_y": null,
            "padding": null,
            "right": null,
            "top": null,
            "visibility": null,
            "width": null
          }
        },
        "54e7898f2706464183f1445b6409b178": {
          "model_module": "@jupyter-widgets/base",
          "model_name": "LayoutModel",
          "model_module_version": "1.2.0",
          "state": {
            "_model_module": "@jupyter-widgets/base",
            "_model_module_version": "1.2.0",
            "_model_name": "LayoutModel",
            "_view_count": null,
            "_view_module": "@jupyter-widgets/base",
            "_view_module_version": "1.2.0",
            "_view_name": "LayoutView",
            "align_content": null,
            "align_items": null,
            "align_self": null,
            "border": null,
            "bottom": null,
            "display": null,
            "flex": null,
            "flex_flow": null,
            "grid_area": null,
            "grid_auto_columns": null,
            "grid_auto_flow": null,
            "grid_auto_rows": null,
            "grid_column": null,
            "grid_gap": null,
            "grid_row": null,
            "grid_template_areas": null,
            "grid_template_columns": null,
            "grid_template_rows": null,
            "height": null,
            "justify_content": null,
            "justify_items": null,
            "left": null,
            "margin": null,
            "max_height": null,
            "max_width": null,
            "min_height": null,
            "min_width": null,
            "object_fit": null,
            "object_position": null,
            "order": null,
            "overflow": null,
            "overflow_x": null,
            "overflow_y": null,
            "padding": null,
            "right": null,
            "top": null,
            "visibility": null,
            "width": null
          }
        },
        "6ee8d9888de347e9a0e0e326d73ba5e9": {
          "model_module": "@jupyter-widgets/controls",
          "model_name": "DescriptionStyleModel",
          "model_module_version": "1.5.0",
          "state": {
            "_model_module": "@jupyter-widgets/controls",
            "_model_module_version": "1.5.0",
            "_model_name": "DescriptionStyleModel",
            "_view_count": null,
            "_view_module": "@jupyter-widgets/base",
            "_view_module_version": "1.2.0",
            "_view_name": "StyleView",
            "description_width": ""
          }
        },
        "1cf69d3d6cb24b969f7f2a3044c615da": {
          "model_module": "@jupyter-widgets/base",
          "model_name": "LayoutModel",
          "model_module_version": "1.2.0",
          "state": {
            "_model_module": "@jupyter-widgets/base",
            "_model_module_version": "1.2.0",
            "_model_name": "LayoutModel",
            "_view_count": null,
            "_view_module": "@jupyter-widgets/base",
            "_view_module_version": "1.2.0",
            "_view_name": "LayoutView",
            "align_content": null,
            "align_items": null,
            "align_self": null,
            "border": null,
            "bottom": null,
            "display": null,
            "flex": null,
            "flex_flow": null,
            "grid_area": null,
            "grid_auto_columns": null,
            "grid_auto_flow": null,
            "grid_auto_rows": null,
            "grid_column": null,
            "grid_gap": null,
            "grid_row": null,
            "grid_template_areas": null,
            "grid_template_columns": null,
            "grid_template_rows": null,
            "height": null,
            "justify_content": null,
            "justify_items": null,
            "left": null,
            "margin": null,
            "max_height": null,
            "max_width": null,
            "min_height": null,
            "min_width": null,
            "object_fit": null,
            "object_position": null,
            "order": null,
            "overflow": null,
            "overflow_x": null,
            "overflow_y": null,
            "padding": null,
            "right": null,
            "top": null,
            "visibility": null,
            "width": null
          }
        },
        "53b9e54c954e42ab9a0a5900df859682": {
          "model_module": "@jupyter-widgets/controls",
          "model_name": "ProgressStyleModel",
          "model_module_version": "1.5.0",
          "state": {
            "_model_module": "@jupyter-widgets/controls",
            "_model_module_version": "1.5.0",
            "_model_name": "ProgressStyleModel",
            "_view_count": null,
            "_view_module": "@jupyter-widgets/base",
            "_view_module_version": "1.2.0",
            "_view_name": "StyleView",
            "bar_color": null,
            "description_width": ""
          }
        },
        "76a2fa3eee1645ff92739aee6a8d1374": {
          "model_module": "@jupyter-widgets/base",
          "model_name": "LayoutModel",
          "model_module_version": "1.2.0",
          "state": {
            "_model_module": "@jupyter-widgets/base",
            "_model_module_version": "1.2.0",
            "_model_name": "LayoutModel",
            "_view_count": null,
            "_view_module": "@jupyter-widgets/base",
            "_view_module_version": "1.2.0",
            "_view_name": "LayoutView",
            "align_content": null,
            "align_items": null,
            "align_self": null,
            "border": null,
            "bottom": null,
            "display": null,
            "flex": null,
            "flex_flow": null,
            "grid_area": null,
            "grid_auto_columns": null,
            "grid_auto_flow": null,
            "grid_auto_rows": null,
            "grid_column": null,
            "grid_gap": null,
            "grid_row": null,
            "grid_template_areas": null,
            "grid_template_columns": null,
            "grid_template_rows": null,
            "height": null,
            "justify_content": null,
            "justify_items": null,
            "left": null,
            "margin": null,
            "max_height": null,
            "max_width": null,
            "min_height": null,
            "min_width": null,
            "object_fit": null,
            "object_position": null,
            "order": null,
            "overflow": null,
            "overflow_x": null,
            "overflow_y": null,
            "padding": null,
            "right": null,
            "top": null,
            "visibility": null,
            "width": null
          }
        },
        "cf5d50036b35408696e664182fc584c1": {
          "model_module": "@jupyter-widgets/controls",
          "model_name": "DescriptionStyleModel",
          "model_module_version": "1.5.0",
          "state": {
            "_model_module": "@jupyter-widgets/controls",
            "_model_module_version": "1.5.0",
            "_model_name": "DescriptionStyleModel",
            "_view_count": null,
            "_view_module": "@jupyter-widgets/base",
            "_view_module_version": "1.2.0",
            "_view_name": "StyleView",
            "description_width": ""
          }
        },
        "87039bca7cd24b7987334be8947a5963": {
          "model_module": "@jupyter-widgets/controls",
          "model_name": "HBoxModel",
          "model_module_version": "1.5.0",
          "state": {
            "_dom_classes": [],
            "_model_module": "@jupyter-widgets/controls",
            "_model_module_version": "1.5.0",
            "_model_name": "HBoxModel",
            "_view_count": null,
            "_view_module": "@jupyter-widgets/controls",
            "_view_module_version": "1.5.0",
            "_view_name": "HBoxView",
            "box_style": "",
            "children": [
              "IPY_MODEL_fca5335916f042bc87e99ecd0659fbd5",
              "IPY_MODEL_8e9913f18db0480390959fe08276537d",
              "IPY_MODEL_99e0c004a5b84cd6a9c4283ad0f963ec"
            ],
            "layout": "IPY_MODEL_741583363f114332a2349ad3dd014474"
          }
        },
        "fca5335916f042bc87e99ecd0659fbd5": {
          "model_module": "@jupyter-widgets/controls",
          "model_name": "HTMLModel",
          "model_module_version": "1.5.0",
          "state": {
            "_dom_classes": [],
            "_model_module": "@jupyter-widgets/controls",
            "_model_module_version": "1.5.0",
            "_model_name": "HTMLModel",
            "_view_count": null,
            "_view_module": "@jupyter-widgets/controls",
            "_view_module_version": "1.5.0",
            "_view_name": "HTMLView",
            "description": "",
            "description_tooltip": null,
            "layout": "IPY_MODEL_dc1ebed9fb48441c87e754887e72700c",
            "placeholder": "​",
            "style": "IPY_MODEL_f9547236bfdd4030972f0f668c2a31dd",
            "value": "generation_config.json: 100%"
          }
        },
        "8e9913f18db0480390959fe08276537d": {
          "model_module": "@jupyter-widgets/controls",
          "model_name": "FloatProgressModel",
          "model_module_version": "1.5.0",
          "state": {
            "_dom_classes": [],
            "_model_module": "@jupyter-widgets/controls",
            "_model_module_version": "1.5.0",
            "_model_name": "FloatProgressModel",
            "_view_count": null,
            "_view_module": "@jupyter-widgets/controls",
            "_view_module_version": "1.5.0",
            "_view_name": "ProgressView",
            "bar_style": "success",
            "description": "",
            "description_tooltip": null,
            "layout": "IPY_MODEL_24737cbcd300424983082435603a65d9",
            "max": 147,
            "min": 0,
            "orientation": "horizontal",
            "style": "IPY_MODEL_df9d14ff077d42c48b354132282ee0fa",
            "value": 147
          }
        },
        "99e0c004a5b84cd6a9c4283ad0f963ec": {
          "model_module": "@jupyter-widgets/controls",
          "model_name": "HTMLModel",
          "model_module_version": "1.5.0",
          "state": {
            "_dom_classes": [],
            "_model_module": "@jupyter-widgets/controls",
            "_model_module_version": "1.5.0",
            "_model_name": "HTMLModel",
            "_view_count": null,
            "_view_module": "@jupyter-widgets/controls",
            "_view_module_version": "1.5.0",
            "_view_name": "HTMLView",
            "description": "",
            "description_tooltip": null,
            "layout": "IPY_MODEL_db12503f06bc4c6a9e240cb38ccd29fe",
            "placeholder": "​",
            "style": "IPY_MODEL_4838360659314cba85940606062f6301",
            "value": " 147/147 [00:00&lt;00:00, 2.85kB/s]"
          }
        },
        "741583363f114332a2349ad3dd014474": {
          "model_module": "@jupyter-widgets/base",
          "model_name": "LayoutModel",
          "model_module_version": "1.2.0",
          "state": {
            "_model_module": "@jupyter-widgets/base",
            "_model_module_version": "1.2.0",
            "_model_name": "LayoutModel",
            "_view_count": null,
            "_view_module": "@jupyter-widgets/base",
            "_view_module_version": "1.2.0",
            "_view_name": "LayoutView",
            "align_content": null,
            "align_items": null,
            "align_self": null,
            "border": null,
            "bottom": null,
            "display": null,
            "flex": null,
            "flex_flow": null,
            "grid_area": null,
            "grid_auto_columns": null,
            "grid_auto_flow": null,
            "grid_auto_rows": null,
            "grid_column": null,
            "grid_gap": null,
            "grid_row": null,
            "grid_template_areas": null,
            "grid_template_columns": null,
            "grid_template_rows": null,
            "height": null,
            "justify_content": null,
            "justify_items": null,
            "left": null,
            "margin": null,
            "max_height": null,
            "max_width": null,
            "min_height": null,
            "min_width": null,
            "object_fit": null,
            "object_position": null,
            "order": null,
            "overflow": null,
            "overflow_x": null,
            "overflow_y": null,
            "padding": null,
            "right": null,
            "top": null,
            "visibility": null,
            "width": null
          }
        },
        "dc1ebed9fb48441c87e754887e72700c": {
          "model_module": "@jupyter-widgets/base",
          "model_name": "LayoutModel",
          "model_module_version": "1.2.0",
          "state": {
            "_model_module": "@jupyter-widgets/base",
            "_model_module_version": "1.2.0",
            "_model_name": "LayoutModel",
            "_view_count": null,
            "_view_module": "@jupyter-widgets/base",
            "_view_module_version": "1.2.0",
            "_view_name": "LayoutView",
            "align_content": null,
            "align_items": null,
            "align_self": null,
            "border": null,
            "bottom": null,
            "display": null,
            "flex": null,
            "flex_flow": null,
            "grid_area": null,
            "grid_auto_columns": null,
            "grid_auto_flow": null,
            "grid_auto_rows": null,
            "grid_column": null,
            "grid_gap": null,
            "grid_row": null,
            "grid_template_areas": null,
            "grid_template_columns": null,
            "grid_template_rows": null,
            "height": null,
            "justify_content": null,
            "justify_items": null,
            "left": null,
            "margin": null,
            "max_height": null,
            "max_width": null,
            "min_height": null,
            "min_width": null,
            "object_fit": null,
            "object_position": null,
            "order": null,
            "overflow": null,
            "overflow_x": null,
            "overflow_y": null,
            "padding": null,
            "right": null,
            "top": null,
            "visibility": null,
            "width": null
          }
        },
        "f9547236bfdd4030972f0f668c2a31dd": {
          "model_module": "@jupyter-widgets/controls",
          "model_name": "DescriptionStyleModel",
          "model_module_version": "1.5.0",
          "state": {
            "_model_module": "@jupyter-widgets/controls",
            "_model_module_version": "1.5.0",
            "_model_name": "DescriptionStyleModel",
            "_view_count": null,
            "_view_module": "@jupyter-widgets/base",
            "_view_module_version": "1.2.0",
            "_view_name": "StyleView",
            "description_width": ""
          }
        },
        "24737cbcd300424983082435603a65d9": {
          "model_module": "@jupyter-widgets/base",
          "model_name": "LayoutModel",
          "model_module_version": "1.2.0",
          "state": {
            "_model_module": "@jupyter-widgets/base",
            "_model_module_version": "1.2.0",
            "_model_name": "LayoutModel",
            "_view_count": null,
            "_view_module": "@jupyter-widgets/base",
            "_view_module_version": "1.2.0",
            "_view_name": "LayoutView",
            "align_content": null,
            "align_items": null,
            "align_self": null,
            "border": null,
            "bottom": null,
            "display": null,
            "flex": null,
            "flex_flow": null,
            "grid_area": null,
            "grid_auto_columns": null,
            "grid_auto_flow": null,
            "grid_auto_rows": null,
            "grid_column": null,
            "grid_gap": null,
            "grid_row": null,
            "grid_template_areas": null,
            "grid_template_columns": null,
            "grid_template_rows": null,
            "height": null,
            "justify_content": null,
            "justify_items": null,
            "left": null,
            "margin": null,
            "max_height": null,
            "max_width": null,
            "min_height": null,
            "min_width": null,
            "object_fit": null,
            "object_position": null,
            "order": null,
            "overflow": null,
            "overflow_x": null,
            "overflow_y": null,
            "padding": null,
            "right": null,
            "top": null,
            "visibility": null,
            "width": null
          }
        },
        "df9d14ff077d42c48b354132282ee0fa": {
          "model_module": "@jupyter-widgets/controls",
          "model_name": "ProgressStyleModel",
          "model_module_version": "1.5.0",
          "state": {
            "_model_module": "@jupyter-widgets/controls",
            "_model_module_version": "1.5.0",
            "_model_name": "ProgressStyleModel",
            "_view_count": null,
            "_view_module": "@jupyter-widgets/base",
            "_view_module_version": "1.2.0",
            "_view_name": "StyleView",
            "bar_color": null,
            "description_width": ""
          }
        },
        "db12503f06bc4c6a9e240cb38ccd29fe": {
          "model_module": "@jupyter-widgets/base",
          "model_name": "LayoutModel",
          "model_module_version": "1.2.0",
          "state": {
            "_model_module": "@jupyter-widgets/base",
            "_model_module_version": "1.2.0",
            "_model_name": "LayoutModel",
            "_view_count": null,
            "_view_module": "@jupyter-widgets/base",
            "_view_module_version": "1.2.0",
            "_view_name": "LayoutView",
            "align_content": null,
            "align_items": null,
            "align_self": null,
            "border": null,
            "bottom": null,
            "display": null,
            "flex": null,
            "flex_flow": null,
            "grid_area": null,
            "grid_auto_columns": null,
            "grid_auto_flow": null,
            "grid_auto_rows": null,
            "grid_column": null,
            "grid_gap": null,
            "grid_row": null,
            "grid_template_areas": null,
            "grid_template_columns": null,
            "grid_template_rows": null,
            "height": null,
            "justify_content": null,
            "justify_items": null,
            "left": null,
            "margin": null,
            "max_height": null,
            "max_width": null,
            "min_height": null,
            "min_width": null,
            "object_fit": null,
            "object_position": null,
            "order": null,
            "overflow": null,
            "overflow_x": null,
            "overflow_y": null,
            "padding": null,
            "right": null,
            "top": null,
            "visibility": null,
            "width": null
          }
        },
        "4838360659314cba85940606062f6301": {
          "model_module": "@jupyter-widgets/controls",
          "model_name": "DescriptionStyleModel",
          "model_module_version": "1.5.0",
          "state": {
            "_model_module": "@jupyter-widgets/controls",
            "_model_module_version": "1.5.0",
            "_model_name": "DescriptionStyleModel",
            "_view_count": null,
            "_view_module": "@jupyter-widgets/base",
            "_view_module_version": "1.2.0",
            "_view_name": "StyleView",
            "description_width": ""
          }
        },
        "afad40a170cc4f7dbaa271e5dbf2cd93": {
          "model_module": "@jupyter-widgets/controls",
          "model_name": "HBoxModel",
          "model_module_version": "1.5.0",
          "state": {
            "_dom_classes": [],
            "_model_module": "@jupyter-widgets/controls",
            "_model_module_version": "1.5.0",
            "_model_name": "HBoxModel",
            "_view_count": null,
            "_view_module": "@jupyter-widgets/controls",
            "_view_module_version": "1.5.0",
            "_view_name": "HBoxView",
            "box_style": "",
            "children": [
              "IPY_MODEL_40f559824d424a64a0280964f40bbebf",
              "IPY_MODEL_ce79e408c55b47ebbbe8ebaad5450ae2",
              "IPY_MODEL_c4793572ead54eefbdd53c8105db8c35"
            ],
            "layout": "IPY_MODEL_f26e428c44e34b6e8f11f6a44c8e7d5b"
          }
        },
        "40f559824d424a64a0280964f40bbebf": {
          "model_module": "@jupyter-widgets/controls",
          "model_name": "HTMLModel",
          "model_module_version": "1.5.0",
          "state": {
            "_dom_classes": [],
            "_model_module": "@jupyter-widgets/controls",
            "_model_module_version": "1.5.0",
            "_model_name": "HTMLModel",
            "_view_count": null,
            "_view_module": "@jupyter-widgets/controls",
            "_view_module_version": "1.5.0",
            "_view_name": "HTMLView",
            "description": "",
            "description_tooltip": null,
            "layout": "IPY_MODEL_1eb566cadb2449c2886fc21c373cade0",
            "placeholder": "​",
            "style": "IPY_MODEL_27d55260b0154c70b11b6c741a6776e3",
            "value": "spiece.model: 100%"
          }
        },
        "ce79e408c55b47ebbbe8ebaad5450ae2": {
          "model_module": "@jupyter-widgets/controls",
          "model_name": "FloatProgressModel",
          "model_module_version": "1.5.0",
          "state": {
            "_dom_classes": [],
            "_model_module": "@jupyter-widgets/controls",
            "_model_module_version": "1.5.0",
            "_model_name": "FloatProgressModel",
            "_view_count": null,
            "_view_module": "@jupyter-widgets/controls",
            "_view_module_version": "1.5.0",
            "_view_name": "ProgressView",
            "bar_style": "success",
            "description": "",
            "description_tooltip": null,
            "layout": "IPY_MODEL_c456d326c4064b4ca0cffd90b7d11fac",
            "max": 791656,
            "min": 0,
            "orientation": "horizontal",
            "style": "IPY_MODEL_f8a8fe34c3c9444da77bbd99666025e1",
            "value": 791656
          }
        },
        "c4793572ead54eefbdd53c8105db8c35": {
          "model_module": "@jupyter-widgets/controls",
          "model_name": "HTMLModel",
          "model_module_version": "1.5.0",
          "state": {
            "_dom_classes": [],
            "_model_module": "@jupyter-widgets/controls",
            "_model_module_version": "1.5.0",
            "_model_name": "HTMLModel",
            "_view_count": null,
            "_view_module": "@jupyter-widgets/controls",
            "_view_module_version": "1.5.0",
            "_view_name": "HTMLView",
            "description": "",
            "description_tooltip": null,
            "layout": "IPY_MODEL_1d41bc91ba8b4ada97a7a8a50196d09e",
            "placeholder": "​",
            "style": "IPY_MODEL_8045693991c9407496590e7a68eb99a3",
            "value": " 792k/792k [00:00&lt;00:00, 11.4MB/s]"
          }
        },
        "f26e428c44e34b6e8f11f6a44c8e7d5b": {
          "model_module": "@jupyter-widgets/base",
          "model_name": "LayoutModel",
          "model_module_version": "1.2.0",
          "state": {
            "_model_module": "@jupyter-widgets/base",
            "_model_module_version": "1.2.0",
            "_model_name": "LayoutModel",
            "_view_count": null,
            "_view_module": "@jupyter-widgets/base",
            "_view_module_version": "1.2.0",
            "_view_name": "LayoutView",
            "align_content": null,
            "align_items": null,
            "align_self": null,
            "border": null,
            "bottom": null,
            "display": null,
            "flex": null,
            "flex_flow": null,
            "grid_area": null,
            "grid_auto_columns": null,
            "grid_auto_flow": null,
            "grid_auto_rows": null,
            "grid_column": null,
            "grid_gap": null,
            "grid_row": null,
            "grid_template_areas": null,
            "grid_template_columns": null,
            "grid_template_rows": null,
            "height": null,
            "justify_content": null,
            "justify_items": null,
            "left": null,
            "margin": null,
            "max_height": null,
            "max_width": null,
            "min_height": null,
            "min_width": null,
            "object_fit": null,
            "object_position": null,
            "order": null,
            "overflow": null,
            "overflow_x": null,
            "overflow_y": null,
            "padding": null,
            "right": null,
            "top": null,
            "visibility": null,
            "width": null
          }
        },
        "1eb566cadb2449c2886fc21c373cade0": {
          "model_module": "@jupyter-widgets/base",
          "model_name": "LayoutModel",
          "model_module_version": "1.2.0",
          "state": {
            "_model_module": "@jupyter-widgets/base",
            "_model_module_version": "1.2.0",
            "_model_name": "LayoutModel",
            "_view_count": null,
            "_view_module": "@jupyter-widgets/base",
            "_view_module_version": "1.2.0",
            "_view_name": "LayoutView",
            "align_content": null,
            "align_items": null,
            "align_self": null,
            "border": null,
            "bottom": null,
            "display": null,
            "flex": null,
            "flex_flow": null,
            "grid_area": null,
            "grid_auto_columns": null,
            "grid_auto_flow": null,
            "grid_auto_rows": null,
            "grid_column": null,
            "grid_gap": null,
            "grid_row": null,
            "grid_template_areas": null,
            "grid_template_columns": null,
            "grid_template_rows": null,
            "height": null,
            "justify_content": null,
            "justify_items": null,
            "left": null,
            "margin": null,
            "max_height": null,
            "max_width": null,
            "min_height": null,
            "min_width": null,
            "object_fit": null,
            "object_position": null,
            "order": null,
            "overflow": null,
            "overflow_x": null,
            "overflow_y": null,
            "padding": null,
            "right": null,
            "top": null,
            "visibility": null,
            "width": null
          }
        },
        "27d55260b0154c70b11b6c741a6776e3": {
          "model_module": "@jupyter-widgets/controls",
          "model_name": "DescriptionStyleModel",
          "model_module_version": "1.5.0",
          "state": {
            "_model_module": "@jupyter-widgets/controls",
            "_model_module_version": "1.5.0",
            "_model_name": "DescriptionStyleModel",
            "_view_count": null,
            "_view_module": "@jupyter-widgets/base",
            "_view_module_version": "1.2.0",
            "_view_name": "StyleView",
            "description_width": ""
          }
        },
        "c456d326c4064b4ca0cffd90b7d11fac": {
          "model_module": "@jupyter-widgets/base",
          "model_name": "LayoutModel",
          "model_module_version": "1.2.0",
          "state": {
            "_model_module": "@jupyter-widgets/base",
            "_model_module_version": "1.2.0",
            "_model_name": "LayoutModel",
            "_view_count": null,
            "_view_module": "@jupyter-widgets/base",
            "_view_module_version": "1.2.0",
            "_view_name": "LayoutView",
            "align_content": null,
            "align_items": null,
            "align_self": null,
            "border": null,
            "bottom": null,
            "display": null,
            "flex": null,
            "flex_flow": null,
            "grid_area": null,
            "grid_auto_columns": null,
            "grid_auto_flow": null,
            "grid_auto_rows": null,
            "grid_column": null,
            "grid_gap": null,
            "grid_row": null,
            "grid_template_areas": null,
            "grid_template_columns": null,
            "grid_template_rows": null,
            "height": null,
            "justify_content": null,
            "justify_items": null,
            "left": null,
            "margin": null,
            "max_height": null,
            "max_width": null,
            "min_height": null,
            "min_width": null,
            "object_fit": null,
            "object_position": null,
            "order": null,
            "overflow": null,
            "overflow_x": null,
            "overflow_y": null,
            "padding": null,
            "right": null,
            "top": null,
            "visibility": null,
            "width": null
          }
        },
        "f8a8fe34c3c9444da77bbd99666025e1": {
          "model_module": "@jupyter-widgets/controls",
          "model_name": "ProgressStyleModel",
          "model_module_version": "1.5.0",
          "state": {
            "_model_module": "@jupyter-widgets/controls",
            "_model_module_version": "1.5.0",
            "_model_name": "ProgressStyleModel",
            "_view_count": null,
            "_view_module": "@jupyter-widgets/base",
            "_view_module_version": "1.2.0",
            "_view_name": "StyleView",
            "bar_color": null,
            "description_width": ""
          }
        },
        "1d41bc91ba8b4ada97a7a8a50196d09e": {
          "model_module": "@jupyter-widgets/base",
          "model_name": "LayoutModel",
          "model_module_version": "1.2.0",
          "state": {
            "_model_module": "@jupyter-widgets/base",
            "_model_module_version": "1.2.0",
            "_model_name": "LayoutModel",
            "_view_count": null,
            "_view_module": "@jupyter-widgets/base",
            "_view_module_version": "1.2.0",
            "_view_name": "LayoutView",
            "align_content": null,
            "align_items": null,
            "align_self": null,
            "border": null,
            "bottom": null,
            "display": null,
            "flex": null,
            "flex_flow": null,
            "grid_area": null,
            "grid_auto_columns": null,
            "grid_auto_flow": null,
            "grid_auto_rows": null,
            "grid_column": null,
            "grid_gap": null,
            "grid_row": null,
            "grid_template_areas": null,
            "grid_template_columns": null,
            "grid_template_rows": null,
            "height": null,
            "justify_content": null,
            "justify_items": null,
            "left": null,
            "margin": null,
            "max_height": null,
            "max_width": null,
            "min_height": null,
            "min_width": null,
            "object_fit": null,
            "object_position": null,
            "order": null,
            "overflow": null,
            "overflow_x": null,
            "overflow_y": null,
            "padding": null,
            "right": null,
            "top": null,
            "visibility": null,
            "width": null
          }
        },
        "8045693991c9407496590e7a68eb99a3": {
          "model_module": "@jupyter-widgets/controls",
          "model_name": "DescriptionStyleModel",
          "model_module_version": "1.5.0",
          "state": {
            "_model_module": "@jupyter-widgets/controls",
            "_model_module_version": "1.5.0",
            "_model_name": "DescriptionStyleModel",
            "_view_count": null,
            "_view_module": "@jupyter-widgets/base",
            "_view_module_version": "1.2.0",
            "_view_name": "StyleView",
            "description_width": ""
          }
        },
        "b77f64c4c0d047cebecc58d13ebf3d89": {
          "model_module": "@jupyter-widgets/controls",
          "model_name": "HBoxModel",
          "model_module_version": "1.5.0",
          "state": {
            "_dom_classes": [],
            "_model_module": "@jupyter-widgets/controls",
            "_model_module_version": "1.5.0",
            "_model_name": "HBoxModel",
            "_view_count": null,
            "_view_module": "@jupyter-widgets/controls",
            "_view_module_version": "1.5.0",
            "_view_name": "HBoxView",
            "box_style": "",
            "children": [
              "IPY_MODEL_97191b568f884569897c75b073d80aaf",
              "IPY_MODEL_570cd7da77fe42858fd099908d8709be",
              "IPY_MODEL_aa0a081e5d174694a390a9fb070b4818"
            ],
            "layout": "IPY_MODEL_050c81b5fe2a49d2bf6a3e653c1bd67e"
          }
        },
        "97191b568f884569897c75b073d80aaf": {
          "model_module": "@jupyter-widgets/controls",
          "model_name": "HTMLModel",
          "model_module_version": "1.5.0",
          "state": {
            "_dom_classes": [],
            "_model_module": "@jupyter-widgets/controls",
            "_model_module_version": "1.5.0",
            "_model_name": "HTMLModel",
            "_view_count": null,
            "_view_module": "@jupyter-widgets/controls",
            "_view_module_version": "1.5.0",
            "_view_name": "HTMLView",
            "description": "",
            "description_tooltip": null,
            "layout": "IPY_MODEL_43ec003d16514fc8a49ae0ddc02a461d",
            "placeholder": "​",
            "style": "IPY_MODEL_c15798a4e8b1439d867fa920664e18c3",
            "value": "tokenizer.json: 100%"
          }
        },
        "570cd7da77fe42858fd099908d8709be": {
          "model_module": "@jupyter-widgets/controls",
          "model_name": "FloatProgressModel",
          "model_module_version": "1.5.0",
          "state": {
            "_dom_classes": [],
            "_model_module": "@jupyter-widgets/controls",
            "_model_module_version": "1.5.0",
            "_model_name": "FloatProgressModel",
            "_view_count": null,
            "_view_module": "@jupyter-widgets/controls",
            "_view_module_version": "1.5.0",
            "_view_name": "ProgressView",
            "bar_style": "success",
            "description": "",
            "description_tooltip": null,
            "layout": "IPY_MODEL_247a4adccb5f4bb0beeac600908c7e86",
            "max": 1389353,
            "min": 0,
            "orientation": "horizontal",
            "style": "IPY_MODEL_fa1ae1da32cc414fb70959187ef92a35",
            "value": 1389353
          }
        },
        "aa0a081e5d174694a390a9fb070b4818": {
          "model_module": "@jupyter-widgets/controls",
          "model_name": "HTMLModel",
          "model_module_version": "1.5.0",
          "state": {
            "_dom_classes": [],
            "_model_module": "@jupyter-widgets/controls",
            "_model_module_version": "1.5.0",
            "_model_name": "HTMLModel",
            "_view_count": null,
            "_view_module": "@jupyter-widgets/controls",
            "_view_module_version": "1.5.0",
            "_view_name": "HTMLView",
            "description": "",
            "description_tooltip": null,
            "layout": "IPY_MODEL_449ec93a140044c6bdcddefc787abf93",
            "placeholder": "​",
            "style": "IPY_MODEL_d78f5e7c1503449fa17a2fe0daf508fe",
            "value": " 1.39M/1.39M [00:00&lt;00:00, 15.6MB/s]"
          }
        },
        "050c81b5fe2a49d2bf6a3e653c1bd67e": {
          "model_module": "@jupyter-widgets/base",
          "model_name": "LayoutModel",
          "model_module_version": "1.2.0",
          "state": {
            "_model_module": "@jupyter-widgets/base",
            "_model_module_version": "1.2.0",
            "_model_name": "LayoutModel",
            "_view_count": null,
            "_view_module": "@jupyter-widgets/base",
            "_view_module_version": "1.2.0",
            "_view_name": "LayoutView",
            "align_content": null,
            "align_items": null,
            "align_self": null,
            "border": null,
            "bottom": null,
            "display": null,
            "flex": null,
            "flex_flow": null,
            "grid_area": null,
            "grid_auto_columns": null,
            "grid_auto_flow": null,
            "grid_auto_rows": null,
            "grid_column": null,
            "grid_gap": null,
            "grid_row": null,
            "grid_template_areas": null,
            "grid_template_columns": null,
            "grid_template_rows": null,
            "height": null,
            "justify_content": null,
            "justify_items": null,
            "left": null,
            "margin": null,
            "max_height": null,
            "max_width": null,
            "min_height": null,
            "min_width": null,
            "object_fit": null,
            "object_position": null,
            "order": null,
            "overflow": null,
            "overflow_x": null,
            "overflow_y": null,
            "padding": null,
            "right": null,
            "top": null,
            "visibility": null,
            "width": null
          }
        },
        "43ec003d16514fc8a49ae0ddc02a461d": {
          "model_module": "@jupyter-widgets/base",
          "model_name": "LayoutModel",
          "model_module_version": "1.2.0",
          "state": {
            "_model_module": "@jupyter-widgets/base",
            "_model_module_version": "1.2.0",
            "_model_name": "LayoutModel",
            "_view_count": null,
            "_view_module": "@jupyter-widgets/base",
            "_view_module_version": "1.2.0",
            "_view_name": "LayoutView",
            "align_content": null,
            "align_items": null,
            "align_self": null,
            "border": null,
            "bottom": null,
            "display": null,
            "flex": null,
            "flex_flow": null,
            "grid_area": null,
            "grid_auto_columns": null,
            "grid_auto_flow": null,
            "grid_auto_rows": null,
            "grid_column": null,
            "grid_gap": null,
            "grid_row": null,
            "grid_template_areas": null,
            "grid_template_columns": null,
            "grid_template_rows": null,
            "height": null,
            "justify_content": null,
            "justify_items": null,
            "left": null,
            "margin": null,
            "max_height": null,
            "max_width": null,
            "min_height": null,
            "min_width": null,
            "object_fit": null,
            "object_position": null,
            "order": null,
            "overflow": null,
            "overflow_x": null,
            "overflow_y": null,
            "padding": null,
            "right": null,
            "top": null,
            "visibility": null,
            "width": null
          }
        },
        "c15798a4e8b1439d867fa920664e18c3": {
          "model_module": "@jupyter-widgets/controls",
          "model_name": "DescriptionStyleModel",
          "model_module_version": "1.5.0",
          "state": {
            "_model_module": "@jupyter-widgets/controls",
            "_model_module_version": "1.5.0",
            "_model_name": "DescriptionStyleModel",
            "_view_count": null,
            "_view_module": "@jupyter-widgets/base",
            "_view_module_version": "1.2.0",
            "_view_name": "StyleView",
            "description_width": ""
          }
        },
        "247a4adccb5f4bb0beeac600908c7e86": {
          "model_module": "@jupyter-widgets/base",
          "model_name": "LayoutModel",
          "model_module_version": "1.2.0",
          "state": {
            "_model_module": "@jupyter-widgets/base",
            "_model_module_version": "1.2.0",
            "_model_name": "LayoutModel",
            "_view_count": null,
            "_view_module": "@jupyter-widgets/base",
            "_view_module_version": "1.2.0",
            "_view_name": "LayoutView",
            "align_content": null,
            "align_items": null,
            "align_self": null,
            "border": null,
            "bottom": null,
            "display": null,
            "flex": null,
            "flex_flow": null,
            "grid_area": null,
            "grid_auto_columns": null,
            "grid_auto_flow": null,
            "grid_auto_rows": null,
            "grid_column": null,
            "grid_gap": null,
            "grid_row": null,
            "grid_template_areas": null,
            "grid_template_columns": null,
            "grid_template_rows": null,
            "height": null,
            "justify_content": null,
            "justify_items": null,
            "left": null,
            "margin": null,
            "max_height": null,
            "max_width": null,
            "min_height": null,
            "min_width": null,
            "object_fit": null,
            "object_position": null,
            "order": null,
            "overflow": null,
            "overflow_x": null,
            "overflow_y": null,
            "padding": null,
            "right": null,
            "top": null,
            "visibility": null,
            "width": null
          }
        },
        "fa1ae1da32cc414fb70959187ef92a35": {
          "model_module": "@jupyter-widgets/controls",
          "model_name": "ProgressStyleModel",
          "model_module_version": "1.5.0",
          "state": {
            "_model_module": "@jupyter-widgets/controls",
            "_model_module_version": "1.5.0",
            "_model_name": "ProgressStyleModel",
            "_view_count": null,
            "_view_module": "@jupyter-widgets/base",
            "_view_module_version": "1.2.0",
            "_view_name": "StyleView",
            "bar_color": null,
            "description_width": ""
          }
        },
        "449ec93a140044c6bdcddefc787abf93": {
          "model_module": "@jupyter-widgets/base",
          "model_name": "LayoutModel",
          "model_module_version": "1.2.0",
          "state": {
            "_model_module": "@jupyter-widgets/base",
            "_model_module_version": "1.2.0",
            "_model_name": "LayoutModel",
            "_view_count": null,
            "_view_module": "@jupyter-widgets/base",
            "_view_module_version": "1.2.0",
            "_view_name": "LayoutView",
            "align_content": null,
            "align_items": null,
            "align_self": null,
            "border": null,
            "bottom": null,
            "display": null,
            "flex": null,
            "flex_flow": null,
            "grid_area": null,
            "grid_auto_columns": null,
            "grid_auto_flow": null,
            "grid_auto_rows": null,
            "grid_column": null,
            "grid_gap": null,
            "grid_row": null,
            "grid_template_areas": null,
            "grid_template_columns": null,
            "grid_template_rows": null,
            "height": null,
            "justify_content": null,
            "justify_items": null,
            "left": null,
            "margin": null,
            "max_height": null,
            "max_width": null,
            "min_height": null,
            "min_width": null,
            "object_fit": null,
            "object_position": null,
            "order": null,
            "overflow": null,
            "overflow_x": null,
            "overflow_y": null,
            "padding": null,
            "right": null,
            "top": null,
            "visibility": null,
            "width": null
          }
        },
        "d78f5e7c1503449fa17a2fe0daf508fe": {
          "model_module": "@jupyter-widgets/controls",
          "model_name": "DescriptionStyleModel",
          "model_module_version": "1.5.0",
          "state": {
            "_model_module": "@jupyter-widgets/controls",
            "_model_module_version": "1.5.0",
            "_model_name": "DescriptionStyleModel",
            "_view_count": null,
            "_view_module": "@jupyter-widgets/base",
            "_view_module_version": "1.2.0",
            "_view_name": "StyleView",
            "description_width": ""
          }
        }
      }
    }
  },
  "nbformat": 4,
  "nbformat_minor": 5
}