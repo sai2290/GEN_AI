{
  "cells": [
    {
      "cell_type": "markdown",
      "metadata": {
        "id": "view-in-github",
        "colab_type": "text"
      },
      "source": [
        "<a href=\"https://colab.research.google.com/github/sai2290/GEN_AI/blob/main/lstmTextprediction.ipynb\" target=\"_parent\"><img src=\"https://colab.research.google.com/assets/colab-badge.svg\" alt=\"Open In Colab\"/></a>"
      ]
    },
    {
      "cell_type": "code",
      "execution_count": null,
      "metadata": {
        "id": "3-3LeIyTO9K1"
      },
      "outputs": [],
      "source": [
        "import keras\n",
        "from numpy import array\n",
        "from tensorflow.keras.utils import to_categorical\n",
        "from keras.preprocessing.text import Tokenizer\n",
        "from keras.preprocessing.text import Tokenizer\n",
        "from keras.layers.core import Dense\n",
        "from keras.layers import LSTM\n",
        "from tensorflow.keras.layers import Embedding\n",
        "from tensorflow.keras.models import Sequential\n",
        "from tensorflow.keras.layers import Dense\n",
        "from tensorflow.keras.layers import LSTM"
      ]
    },
    {
      "cell_type": "code",
      "source": [
        "!pip install tensorflow==2.8.3"
      ],
      "metadata": {
        "colab": {
          "base_uri": "https://localhost:8080/",
          "height": 1000
        },
        "id": "vurFZijxP4Oe",
        "outputId": "4f069569-7f7b-4ac1-d973-868ad3015bc2"
      },
      "execution_count": null,
      "outputs": [
        {
          "output_type": "stream",
          "name": "stdout",
          "text": [
            "Collecting tensorflow==2.8.3\n",
            "  Downloading tensorflow-2.8.3-cp310-cp310-manylinux2010_x86_64.whl.metadata (2.9 kB)\n",
            "Requirement already satisfied: absl-py>=0.4.0 in /usr/local/lib/python3.10/dist-packages (from tensorflow==2.8.3) (1.4.0)\n",
            "Requirement already satisfied: astunparse>=1.6.0 in /usr/local/lib/python3.10/dist-packages (from tensorflow==2.8.3) (1.6.3)\n",
            "Requirement already satisfied: flatbuffers>=1.12 in /usr/local/lib/python3.10/dist-packages (from tensorflow==2.8.3) (24.3.25)\n",
            "Requirement already satisfied: gast>=0.2.1 in /usr/local/lib/python3.10/dist-packages (from tensorflow==2.8.3) (0.6.0)\n",
            "Requirement already satisfied: google-pasta>=0.1.1 in /usr/local/lib/python3.10/dist-packages (from tensorflow==2.8.3) (0.2.0)\n",
            "Requirement already satisfied: h5py>=2.9.0 in /usr/local/lib/python3.10/dist-packages (from tensorflow==2.8.3) (3.11.0)\n",
            "Collecting keras-preprocessing>=1.1.1 (from tensorflow==2.8.3)\n",
            "  Downloading Keras_Preprocessing-1.1.2-py2.py3-none-any.whl.metadata (1.9 kB)\n",
            "Requirement already satisfied: libclang>=9.0.1 in /usr/local/lib/python3.10/dist-packages (from tensorflow==2.8.3) (18.1.1)\n",
            "Requirement already satisfied: numpy>=1.20 in /usr/local/lib/python3.10/dist-packages (from tensorflow==2.8.3) (1.26.4)\n",
            "Requirement already satisfied: opt-einsum>=2.3.2 in /usr/local/lib/python3.10/dist-packages (from tensorflow==2.8.3) (3.3.0)\n",
            "Collecting protobuf<3.20,>=3.9.2 (from tensorflow==2.8.3)\n",
            "  Downloading protobuf-3.19.6-cp310-cp310-manylinux_2_17_x86_64.manylinux2014_x86_64.whl.metadata (787 bytes)\n",
            "Requirement already satisfied: setuptools in /usr/local/lib/python3.10/dist-packages (from tensorflow==2.8.3) (71.0.4)\n",
            "Requirement already satisfied: six>=1.12.0 in /usr/local/lib/python3.10/dist-packages (from tensorflow==2.8.3) (1.16.0)\n",
            "Requirement already satisfied: termcolor>=1.1.0 in /usr/local/lib/python3.10/dist-packages (from tensorflow==2.8.3) (2.4.0)\n",
            "Requirement already satisfied: typing-extensions>=3.6.6 in /usr/local/lib/python3.10/dist-packages (from tensorflow==2.8.3) (4.12.2)\n",
            "Requirement already satisfied: wrapt>=1.11.0 in /usr/local/lib/python3.10/dist-packages (from tensorflow==2.8.3) (1.16.0)\n",
            "Collecting tensorboard<2.9,>=2.8 (from tensorflow==2.8.3)\n",
            "  Downloading tensorboard-2.8.0-py3-none-any.whl.metadata (1.9 kB)\n",
            "Collecting tensorflow-estimator<2.9,>=2.8 (from tensorflow==2.8.3)\n",
            "  Downloading tensorflow_estimator-2.8.0-py2.py3-none-any.whl.metadata (1.3 kB)\n",
            "Collecting keras<2.9,>=2.8.0rc0 (from tensorflow==2.8.3)\n",
            "  Downloading keras-2.8.0-py2.py3-none-any.whl.metadata (1.3 kB)\n",
            "Requirement already satisfied: tensorflow-io-gcs-filesystem>=0.23.1 in /usr/local/lib/python3.10/dist-packages (from tensorflow==2.8.3) (0.37.1)\n",
            "Requirement already satisfied: grpcio<2.0,>=1.24.3 in /usr/local/lib/python3.10/dist-packages (from tensorflow==2.8.3) (1.64.1)\n",
            "Requirement already satisfied: wheel<1.0,>=0.23.0 in /usr/local/lib/python3.10/dist-packages (from astunparse>=1.6.0->tensorflow==2.8.3) (0.44.0)\n",
            "Requirement already satisfied: google-auth<3,>=1.6.3 in /usr/local/lib/python3.10/dist-packages (from tensorboard<2.9,>=2.8->tensorflow==2.8.3) (2.27.0)\n",
            "Collecting google-auth-oauthlib<0.5,>=0.4.1 (from tensorboard<2.9,>=2.8->tensorflow==2.8.3)\n",
            "  Downloading google_auth_oauthlib-0.4.6-py2.py3-none-any.whl.metadata (2.7 kB)\n",
            "Requirement already satisfied: markdown>=2.6.8 in /usr/local/lib/python3.10/dist-packages (from tensorboard<2.9,>=2.8->tensorflow==2.8.3) (3.6)\n",
            "Requirement already satisfied: requests<3,>=2.21.0 in /usr/local/lib/python3.10/dist-packages (from tensorboard<2.9,>=2.8->tensorflow==2.8.3) (2.32.3)\n",
            "Collecting tensorboard-data-server<0.7.0,>=0.6.0 (from tensorboard<2.9,>=2.8->tensorflow==2.8.3)\n",
            "  Downloading tensorboard_data_server-0.6.1-py3-none-manylinux2010_x86_64.whl.metadata (1.1 kB)\n",
            "Collecting tensorboard-plugin-wit>=1.6.0 (from tensorboard<2.9,>=2.8->tensorflow==2.8.3)\n",
            "  Downloading tensorboard_plugin_wit-1.8.1-py3-none-any.whl.metadata (873 bytes)\n",
            "Requirement already satisfied: werkzeug>=0.11.15 in /usr/local/lib/python3.10/dist-packages (from tensorboard<2.9,>=2.8->tensorflow==2.8.3) (3.0.3)\n",
            "Requirement already satisfied: cachetools<6.0,>=2.0.0 in /usr/local/lib/python3.10/dist-packages (from google-auth<3,>=1.6.3->tensorboard<2.9,>=2.8->tensorflow==2.8.3) (5.4.0)\n",
            "Requirement already satisfied: pyasn1-modules>=0.2.1 in /usr/local/lib/python3.10/dist-packages (from google-auth<3,>=1.6.3->tensorboard<2.9,>=2.8->tensorflow==2.8.3) (0.4.0)\n",
            "Requirement already satisfied: rsa<5,>=3.1.4 in /usr/local/lib/python3.10/dist-packages (from google-auth<3,>=1.6.3->tensorboard<2.9,>=2.8->tensorflow==2.8.3) (4.9)\n",
            "Requirement already satisfied: requests-oauthlib>=0.7.0 in /usr/local/lib/python3.10/dist-packages (from google-auth-oauthlib<0.5,>=0.4.1->tensorboard<2.9,>=2.8->tensorflow==2.8.3) (1.3.1)\n",
            "Requirement already satisfied: charset-normalizer<4,>=2 in /usr/local/lib/python3.10/dist-packages (from requests<3,>=2.21.0->tensorboard<2.9,>=2.8->tensorflow==2.8.3) (3.3.2)\n",
            "Requirement already satisfied: idna<4,>=2.5 in /usr/local/lib/python3.10/dist-packages (from requests<3,>=2.21.0->tensorboard<2.9,>=2.8->tensorflow==2.8.3) (3.7)\n",
            "Requirement already satisfied: urllib3<3,>=1.21.1 in /usr/local/lib/python3.10/dist-packages (from requests<3,>=2.21.0->tensorboard<2.9,>=2.8->tensorflow==2.8.3) (2.0.7)\n",
            "Requirement already satisfied: certifi>=2017.4.17 in /usr/local/lib/python3.10/dist-packages (from requests<3,>=2.21.0->tensorboard<2.9,>=2.8->tensorflow==2.8.3) (2024.7.4)\n",
            "Requirement already satisfied: MarkupSafe>=2.1.1 in /usr/local/lib/python3.10/dist-packages (from werkzeug>=0.11.15->tensorboard<2.9,>=2.8->tensorflow==2.8.3) (2.1.5)\n",
            "Requirement already satisfied: pyasn1<0.7.0,>=0.4.6 in /usr/local/lib/python3.10/dist-packages (from pyasn1-modules>=0.2.1->google-auth<3,>=1.6.3->tensorboard<2.9,>=2.8->tensorflow==2.8.3) (0.6.0)\n",
            "Requirement already satisfied: oauthlib>=3.0.0 in /usr/local/lib/python3.10/dist-packages (from requests-oauthlib>=0.7.0->google-auth-oauthlib<0.5,>=0.4.1->tensorboard<2.9,>=2.8->tensorflow==2.8.3) (3.2.2)\n",
            "Downloading tensorflow-2.8.3-cp310-cp310-manylinux2010_x86_64.whl (498.5 MB)\n",
            "\u001b[2K   \u001b[90m━━━━━━━━━━━━━━━━━━━━━━━━━━━━━━━━━━━━━━━━\u001b[0m \u001b[32m498.5/498.5 MB\u001b[0m \u001b[31m2.5 MB/s\u001b[0m eta \u001b[36m0:00:00\u001b[0m\n",
            "\u001b[?25hDownloading keras-2.8.0-py2.py3-none-any.whl (1.4 MB)\n",
            "\u001b[2K   \u001b[90m━━━━━━━━━━━━━━━━━━━━━━━━━━━━━━━━━━━━━━━━\u001b[0m \u001b[32m1.4/1.4 MB\u001b[0m \u001b[31m61.1 MB/s\u001b[0m eta \u001b[36m0:00:00\u001b[0m\n",
            "\u001b[?25hDownloading Keras_Preprocessing-1.1.2-py2.py3-none-any.whl (42 kB)\n",
            "\u001b[2K   \u001b[90m━━━━━━━━━━━━━━━━━━━━━━━━━━━━━━━━━━━━━━━━\u001b[0m \u001b[32m42.6/42.6 kB\u001b[0m \u001b[31m2.8 MB/s\u001b[0m eta \u001b[36m0:00:00\u001b[0m\n",
            "\u001b[?25hDownloading protobuf-3.19.6-cp310-cp310-manylinux_2_17_x86_64.manylinux2014_x86_64.whl (1.1 MB)\n",
            "\u001b[2K   \u001b[90m━━━━━━━━━━━━━━━━━━━━━━━━━━━━━━━━━━━━━━━━\u001b[0m \u001b[32m1.1/1.1 MB\u001b[0m \u001b[31m53.1 MB/s\u001b[0m eta \u001b[36m0:00:00\u001b[0m\n",
            "\u001b[?25hDownloading tensorboard-2.8.0-py3-none-any.whl (5.8 MB)\n",
            "\u001b[2K   \u001b[90m━━━━━━━━━━━━━━━━━━━━━━━━━━━━━━━━━━━━━━━━\u001b[0m \u001b[32m5.8/5.8 MB\u001b[0m \u001b[31m99.1 MB/s\u001b[0m eta \u001b[36m0:00:00\u001b[0m\n",
            "\u001b[?25hDownloading tensorflow_estimator-2.8.0-py2.py3-none-any.whl (462 kB)\n",
            "\u001b[2K   \u001b[90m━━━━━━━━━━━━━━━━━━━━━━━━━━━━━━━━━━━━━━━━\u001b[0m \u001b[32m462.3/462.3 kB\u001b[0m \u001b[31m29.1 MB/s\u001b[0m eta \u001b[36m0:00:00\u001b[0m\n",
            "\u001b[?25hDownloading google_auth_oauthlib-0.4.6-py2.py3-none-any.whl (18 kB)\n",
            "Downloading tensorboard_data_server-0.6.1-py3-none-manylinux2010_x86_64.whl (4.9 MB)\n",
            "\u001b[2K   \u001b[90m━━━━━━━━━━━━━━━━━━━━━━━━━━━━━━━━━━━━━━━━\u001b[0m \u001b[32m4.9/4.9 MB\u001b[0m \u001b[31m85.0 MB/s\u001b[0m eta \u001b[36m0:00:00\u001b[0m\n",
            "\u001b[?25hDownloading tensorboard_plugin_wit-1.8.1-py3-none-any.whl (781 kB)\n",
            "\u001b[2K   \u001b[90m━━━━━━━━━━━━━━━━━━━━━━━━━━━━━━━━━━━━━━━━\u001b[0m \u001b[32m781.3/781.3 kB\u001b[0m \u001b[31m44.2 MB/s\u001b[0m eta \u001b[36m0:00:00\u001b[0m\n",
            "\u001b[?25hInstalling collected packages: tensorflow-estimator, tensorboard-plugin-wit, keras, tensorboard-data-server, protobuf, keras-preprocessing, google-auth-oauthlib, tensorboard, tensorflow\n",
            "  Attempting uninstall: keras\n",
            "    Found existing installation: keras 2.12.0\n",
            "    Uninstalling keras-2.12.0:\n",
            "      Successfully uninstalled keras-2.12.0\n",
            "  Attempting uninstall: tensorboard-data-server\n",
            "    Found existing installation: tensorboard-data-server 0.7.2\n",
            "    Uninstalling tensorboard-data-server-0.7.2:\n",
            "      Successfully uninstalled tensorboard-data-server-0.7.2\n",
            "  Attempting uninstall: protobuf\n",
            "    Found existing installation: protobuf 3.20.3\n",
            "    Uninstalling protobuf-3.20.3:\n",
            "      Successfully uninstalled protobuf-3.20.3\n",
            "  Attempting uninstall: google-auth-oauthlib\n",
            "    Found existing installation: google-auth-oauthlib 1.2.1\n",
            "    Uninstalling google-auth-oauthlib-1.2.1:\n",
            "      Successfully uninstalled google-auth-oauthlib-1.2.1\n",
            "  Attempting uninstall: tensorboard\n",
            "    Found existing installation: tensorboard 2.17.0\n",
            "    Uninstalling tensorboard-2.17.0:\n",
            "      Successfully uninstalled tensorboard-2.17.0\n",
            "  Attempting uninstall: tensorflow\n",
            "    Found existing installation: tensorflow 2.17.0\n",
            "    Uninstalling tensorflow-2.17.0:\n",
            "      Successfully uninstalled tensorflow-2.17.0\n",
            "\u001b[31mERROR: pip's dependency resolver does not currently take into account all the packages that are installed. This behaviour is the source of the following dependency conflicts.\n",
            "cudf-cu12 24.4.1 requires protobuf<5,>=3.20, but you have protobuf 3.19.6 which is incompatible.\n",
            "google-cloud-bigquery-connection 1.15.5 requires protobuf!=4.21.0,!=4.21.1,!=4.21.2,!=4.21.3,!=4.21.4,!=4.21.5,<6.0.0dev,>=3.20.2, but you have protobuf 3.19.6 which is incompatible.\n",
            "google-cloud-bigtable 2.25.0 requires protobuf!=4.21.0,!=4.21.1,!=4.21.2,!=4.21.3,!=4.21.4,!=4.21.5,<6.0.0dev,>=3.20.2, but you have protobuf 3.19.6 which is incompatible.\n",
            "google-cloud-functions 1.16.5 requires protobuf!=4.21.0,!=4.21.1,!=4.21.2,!=4.21.3,!=4.21.4,!=4.21.5,<6.0.0dev,>=3.20.2, but you have protobuf 3.19.6 which is incompatible.\n",
            "google-cloud-iam 2.15.2 requires protobuf!=4.21.0,!=4.21.1,!=4.21.2,!=4.21.3,!=4.21.4,!=4.21.5,<6.0.0dev,>=3.20.2, but you have protobuf 3.19.6 which is incompatible.\n",
            "google-cloud-language 2.13.4 requires protobuf!=4.21.0,!=4.21.1,!=4.21.2,!=4.21.3,!=4.21.4,!=4.21.5,<6.0.0dev,>=3.20.2, but you have protobuf 3.19.6 which is incompatible.\n",
            "google-cloud-pubsub 2.23.0 requires protobuf!=4.21.0,!=4.21.1,!=4.21.2,!=4.21.3,!=4.21.4,!=4.21.5,<6.0.0dev,>=3.20.2, but you have protobuf 3.19.6 which is incompatible.\n",
            "google-cloud-resource-manager 1.12.5 requires protobuf!=4.21.0,!=4.21.1,!=4.21.2,!=4.21.3,!=4.21.4,!=4.21.5,<6.0.0dev,>=3.20.2, but you have protobuf 3.19.6 which is incompatible.\n",
            "google-cloud-translate 3.15.5 requires protobuf!=4.21.0,!=4.21.1,!=4.21.2,!=4.21.3,!=4.21.4,!=4.21.5,<6.0.0dev,>=3.20.2, but you have protobuf 3.19.6 which is incompatible.\n",
            "googleapis-common-protos 1.63.2 requires protobuf!=3.20.0,!=3.20.1,!=4.21.1,!=4.21.2,!=4.21.3,!=4.21.4,!=4.21.5,<6.0.0.dev0,>=3.20.2, but you have protobuf 3.19.6 which is incompatible.\n",
            "grpc-google-iam-v1 0.13.1 requires protobuf!=4.21.1,!=4.21.2,!=4.21.3,!=4.21.4,!=4.21.5,<6.0.0dev,>=3.20.2, but you have protobuf 3.19.6 which is incompatible.\n",
            "pandas-gbq 0.19.2 requires google-auth-oauthlib>=0.7.0, but you have google-auth-oauthlib 0.4.6 which is incompatible.\n",
            "tensorflow-datasets 4.9.6 requires protobuf>=3.20, but you have protobuf 3.19.6 which is incompatible.\n",
            "tensorflow-metadata 1.15.0 requires protobuf<4.21,>=3.20.3; python_version < \"3.11\", but you have protobuf 3.19.6 which is incompatible.\n",
            "tf-keras 2.17.0 requires tensorflow<2.18,>=2.17, but you have tensorflow 2.8.3 which is incompatible.\u001b[0m\u001b[31m\n",
            "\u001b[0mSuccessfully installed google-auth-oauthlib-0.4.6 keras-2.8.0 keras-preprocessing-1.1.2 protobuf-3.19.6 tensorboard-2.8.0 tensorboard-data-server-0.6.1 tensorboard-plugin-wit-1.8.1 tensorflow-2.8.3 tensorflow-estimator-2.8.0\n"
          ]
        },
        {
          "output_type": "display_data",
          "data": {
            "application/vnd.colab-display-data+json": {
              "pip_warning": {
                "packages": [
                  "google",
                  "tensorflow"
                ]
              },
              "id": "5676d21c52d14875850366cf766a07bc"
            }
          },
          "metadata": {}
        }
      ]
    },
    {
      "cell_type": "code",
      "execution_count": null,
      "metadata": {
        "id": "VKIAtA1uO9K5"
      },
      "outputs": [],
      "source": [
        "#source input text\n",
        "inputdata=\"\"\"Chandrayaan-3 consists of an indigenous propulsion module, lander module, and a rover with an objective of developing and demonstrating new technologies required for inter-planetary missions. The propulsion module will carry the lander and rover from injection orbit to till 100 km lunar orbit.\"\"\""
      ]
    },
    {
      "cell_type": "code",
      "execution_count": null,
      "metadata": {
        "colab": {
          "base_uri": "https://localhost:8080/"
        },
        "id": "Qf1SEvWRO9K7",
        "outputId": "2ce95cbf-e9a4-4eae-b596-53563d4f78f2"
      },
      "outputs": [
        {
          "output_type": "execute_result",
          "data": {
            "text/plain": [
              "[10,\n",
              " 11,\n",
              " 12,\n",
              " 3,\n",
              " 4,\n",
              " 13,\n",
              " 5,\n",
              " 1,\n",
              " 6,\n",
              " 1,\n",
              " 2,\n",
              " 14,\n",
              " 7,\n",
              " 15,\n",
              " 4,\n",
              " 16,\n",
              " 3,\n",
              " 17,\n",
              " 2,\n",
              " 18,\n",
              " 19,\n",
              " 20,\n",
              " 21,\n",
              " 22,\n",
              " 23,\n",
              " 24,\n",
              " 25,\n",
              " 8,\n",
              " 5,\n",
              " 1,\n",
              " 26,\n",
              " 27,\n",
              " 8,\n",
              " 6,\n",
              " 2,\n",
              " 7,\n",
              " 28,\n",
              " 29,\n",
              " 9,\n",
              " 30,\n",
              " 31,\n",
              " 32,\n",
              " 33,\n",
              " 34,\n",
              " 9]"
            ]
          },
          "metadata": {},
          "execution_count": 89
        }
      ],
      "source": [
        "#integer encoding\n",
        "tokenizer = Tokenizer()\n",
        "tokenizer.fit_on_texts([inputdata])\n",
        "encoded_data=tokenizer.texts_to_sequences([inputdata])[0]\n",
        "encoded_data"
      ]
    },
    {
      "cell_type": "code",
      "execution_count": null,
      "metadata": {
        "colab": {
          "base_uri": "https://localhost:8080/"
        },
        "id": "XMw2KkGUO9K-",
        "outputId": "3e91d72f-4b66-406d-d35c-75959446e768"
      },
      "outputs": [
        {
          "output_type": "execute_result",
          "data": {
            "text/plain": [
              "35"
            ]
          },
          "metadata": {},
          "execution_count": 90
        }
      ],
      "source": [
        "vocab_size=len(tokenizer.word_index)+1\n",
        "vocab_size"
      ]
    },
    {
      "cell_type": "code",
      "execution_count": null,
      "metadata": {
        "id": "4AcHh9VsO9K_"
      },
      "outputs": [],
      "source": [
        "#sequence the word to fit the model\n",
        "sequences = list()\n",
        "for i in range(1,len(encoded_data)):\n",
        "    sequence = encoded_data[i-1:i+1]\n",
        "    sequences.append(sequence)\n"
      ]
    },
    {
      "cell_type": "code",
      "execution_count": null,
      "metadata": {
        "colab": {
          "base_uri": "https://localhost:8080/"
        },
        "id": "vVpUtoYaO9LA",
        "outputId": "da5474f7-a88d-4dc8-f6d5-e2c34c2efa58"
      },
      "outputs": [
        {
          "output_type": "execute_result",
          "data": {
            "text/plain": [
              "[[10, 11],\n",
              " [11, 12],\n",
              " [12, 3],\n",
              " [3, 4],\n",
              " [4, 13],\n",
              " [13, 5],\n",
              " [5, 1],\n",
              " [1, 6],\n",
              " [6, 1],\n",
              " [1, 2],\n",
              " [2, 14],\n",
              " [14, 7],\n",
              " [7, 15],\n",
              " [15, 4],\n",
              " [4, 16],\n",
              " [16, 3],\n",
              " [3, 17],\n",
              " [17, 2],\n",
              " [2, 18],\n",
              " [18, 19],\n",
              " [19, 20],\n",
              " [20, 21],\n",
              " [21, 22],\n",
              " [22, 23],\n",
              " [23, 24],\n",
              " [24, 25],\n",
              " [25, 8],\n",
              " [8, 5],\n",
              " [5, 1],\n",
              " [1, 26],\n",
              " [26, 27],\n",
              " [27, 8],\n",
              " [8, 6],\n",
              " [6, 2],\n",
              " [2, 7],\n",
              " [7, 28],\n",
              " [28, 29],\n",
              " [29, 9],\n",
              " [9, 30],\n",
              " [30, 31],\n",
              " [31, 32],\n",
              " [32, 33],\n",
              " [33, 34],\n",
              " [34, 9]]"
            ]
          },
          "metadata": {},
          "execution_count": 92
        }
      ],
      "source": [
        "sequences\n"
      ]
    },
    {
      "cell_type": "code",
      "execution_count": null,
      "metadata": {
        "id": "imJulVnXO9LB"
      },
      "outputs": [],
      "source": [
        "# split x and y\n",
        "sequences = array(sequences)\n",
        "x,y=sequences[:,0],sequences[:,1]"
      ]
    },
    {
      "cell_type": "code",
      "execution_count": null,
      "metadata": {
        "id": "CsLw4rcjO9LC"
      },
      "outputs": [],
      "source": [
        "y=to_categorical(y,num_classes=vocab_size)"
      ]
    },
    {
      "cell_type": "code",
      "execution_count": null,
      "metadata": {
        "colab": {
          "base_uri": "https://localhost:8080/"
        },
        "id": "vB0bT1YvO9LD",
        "outputId": "56cfd52a-f824-435a-c4ba-1d7be53aefc2"
      },
      "outputs": [
        {
          "output_type": "execute_result",
          "data": {
            "text/plain": [
              "array([[0., 0., 0., 0., 0., 0., 0., 0., 0., 0., 0., 1., 0., 0., 0., 0.,\n",
              "        0., 0., 0., 0., 0., 0., 0., 0., 0., 0., 0., 0., 0., 0., 0., 0.,\n",
              "        0., 0., 0.],\n",
              "       [0., 0., 0., 0., 0., 0., 0., 0., 0., 0., 0., 0., 1., 0., 0., 0.,\n",
              "        0., 0., 0., 0., 0., 0., 0., 0., 0., 0., 0., 0., 0., 0., 0., 0.,\n",
              "        0., 0., 0.],\n",
              "       [0., 0., 0., 1., 0., 0., 0., 0., 0., 0., 0., 0., 0., 0., 0., 0.,\n",
              "        0., 0., 0., 0., 0., 0., 0., 0., 0., 0., 0., 0., 0., 0., 0., 0.,\n",
              "        0., 0., 0.],\n",
              "       [0., 0., 0., 0., 1., 0., 0., 0., 0., 0., 0., 0., 0., 0., 0., 0.,\n",
              "        0., 0., 0., 0., 0., 0., 0., 0., 0., 0., 0., 0., 0., 0., 0., 0.,\n",
              "        0., 0., 0.],\n",
              "       [0., 0., 0., 0., 0., 0., 0., 0., 0., 0., 0., 0., 0., 1., 0., 0.,\n",
              "        0., 0., 0., 0., 0., 0., 0., 0., 0., 0., 0., 0., 0., 0., 0., 0.,\n",
              "        0., 0., 0.]], dtype=float32)"
            ]
          },
          "metadata": {},
          "execution_count": 95
        }
      ],
      "source": [
        "y[:5]"
      ]
    },
    {
      "cell_type": "markdown",
      "metadata": {
        "id": "MPtFJpn6O9LE"
      },
      "source": [
        "model = Sequential()\n",
        "model.add(Embedding(vocab_size,8 ,input_length=1)\n",
        "model.add(LSTM(50))\n",
        "model.add(Dense(vocab_size,activation='softmax'))\n",
        "print(model.summary())"
      ]
    },
    {
      "cell_type": "code",
      "execution_count": null,
      "metadata": {
        "colab": {
          "base_uri": "https://localhost:8080/"
        },
        "id": "W_zG0JPFO9LG",
        "outputId": "57291791-945d-489e-9661-41ef2d788460"
      },
      "outputs": [
        {
          "output_type": "stream",
          "name": "stdout",
          "text": [
            "Model: \"sequential_8\"\n",
            "_________________________________________________________________\n",
            " Layer (type)                Output Shape              Param #   \n",
            "=================================================================\n",
            " embedding_8 (Embedding)     (None, 1, 10)             350       \n",
            "                                                                 \n",
            " lstm_7 (LSTM)               (None, 100)               44400     \n",
            "                                                                 \n",
            " dense_7 (Dense)             (None, 35)                3535      \n",
            "                                                                 \n",
            "=================================================================\n",
            "Total params: 48,285\n",
            "Trainable params: 48,285\n",
            "Non-trainable params: 0\n",
            "_________________________________________________________________\n"
          ]
        }
      ],
      "source": [
        "model = Sequential()\n",
        "model.add(Embedding(vocab_size,10,input_length=1))\n",
        "model.add(LSTM(100))\n",
        "model.add(Dense(vocab_size,activation='softmax'))\n",
        "model.summary()"
      ]
    },
    {
      "cell_type": "code",
      "execution_count": null,
      "metadata": {
        "id": "fOniQYVdO9LH"
      },
      "outputs": [],
      "source": [
        "model.compile(loss='categorical_crossentropy',optimizer='adam',metrics=['accuracy'])"
      ]
    },
    {
      "cell_type": "code",
      "execution_count": null,
      "metadata": {
        "colab": {
          "base_uri": "https://localhost:8080/"
        },
        "id": "HU99yZAfO9LI",
        "outputId": "702e87a8-3d74-479c-e75f-1824e121d757"
      },
      "outputs": [
        {
          "output_type": "stream",
          "name": "stdout",
          "text": [
            "Epoch 1/100\n",
            "2/2 [==============================] - 0s 27ms/step - loss: 3.5558 - accuracy: 0.0227\n",
            "Epoch 2/100\n",
            "2/2 [==============================] - 0s 27ms/step - loss: 3.5543 - accuracy: 0.0227\n",
            "Epoch 3/100\n",
            "2/2 [==============================] - 0s 28ms/step - loss: 3.5531 - accuracy: 0.0682\n",
            "Epoch 4/100\n",
            "2/2 [==============================] - 0s 26ms/step - loss: 3.5520 - accuracy: 0.0682\n",
            "Epoch 5/100\n",
            "2/2 [==============================] - 0s 31ms/step - loss: 3.5510 - accuracy: 0.0682\n",
            "Epoch 6/100\n",
            "2/2 [==============================] - 0s 32ms/step - loss: 3.5498 - accuracy: 0.0682\n",
            "Epoch 7/100\n",
            "2/2 [==============================] - 0s 37ms/step - loss: 3.5486 - accuracy: 0.0682\n",
            "Epoch 8/100\n",
            "2/2 [==============================] - 0s 31ms/step - loss: 3.5476 - accuracy: 0.0682\n",
            "Epoch 9/100\n",
            "2/2 [==============================] - 0s 38ms/step - loss: 3.5463 - accuracy: 0.0682\n",
            "Epoch 10/100\n",
            "2/2 [==============================] - 0s 31ms/step - loss: 3.5452 - accuracy: 0.0909\n",
            "Epoch 11/100\n",
            "2/2 [==============================] - 0s 27ms/step - loss: 3.5439 - accuracy: 0.0909\n",
            "Epoch 12/100\n",
            "2/2 [==============================] - 0s 28ms/step - loss: 3.5426 - accuracy: 0.0909\n",
            "Epoch 13/100\n",
            "2/2 [==============================] - 0s 28ms/step - loss: 3.5412 - accuracy: 0.0909\n",
            "Epoch 14/100\n",
            "2/2 [==============================] - 0s 26ms/step - loss: 3.5398 - accuracy: 0.0909\n",
            "Epoch 15/100\n",
            "2/2 [==============================] - 0s 28ms/step - loss: 3.5384 - accuracy: 0.0909\n",
            "Epoch 16/100\n",
            "2/2 [==============================] - 0s 37ms/step - loss: 3.5368 - accuracy: 0.0909\n",
            "Epoch 17/100\n",
            "2/2 [==============================] - 0s 38ms/step - loss: 3.5352 - accuracy: 0.0909\n",
            "Epoch 18/100\n",
            "2/2 [==============================] - 0s 37ms/step - loss: 3.5334 - accuracy: 0.0909\n",
            "Epoch 19/100\n",
            "2/2 [==============================] - 0s 40ms/step - loss: 3.5316 - accuracy: 0.0909\n",
            "Epoch 20/100\n",
            "2/2 [==============================] - 0s 33ms/step - loss: 3.5297 - accuracy: 0.0909\n",
            "Epoch 21/100\n",
            "2/2 [==============================] - 0s 31ms/step - loss: 3.5277 - accuracy: 0.0909\n",
            "Epoch 22/100\n",
            "2/2 [==============================] - 0s 26ms/step - loss: 3.5254 - accuracy: 0.0909\n",
            "Epoch 23/100\n",
            "2/2 [==============================] - 0s 26ms/step - loss: 3.5233 - accuracy: 0.1136\n",
            "Epoch 24/100\n",
            "2/2 [==============================] - 0s 26ms/step - loss: 3.5208 - accuracy: 0.1136\n",
            "Epoch 25/100\n",
            "2/2 [==============================] - 0s 29ms/step - loss: 3.5183 - accuracy: 0.1136\n",
            "Epoch 26/100\n",
            "2/2 [==============================] - 0s 31ms/step - loss: 3.5155 - accuracy: 0.1136\n",
            "Epoch 27/100\n",
            "2/2 [==============================] - 0s 26ms/step - loss: 3.5128 - accuracy: 0.1136\n",
            "Epoch 28/100\n",
            "2/2 [==============================] - 0s 27ms/step - loss: 3.5098 - accuracy: 0.1136\n",
            "Epoch 29/100\n",
            "2/2 [==============================] - 0s 26ms/step - loss: 3.5067 - accuracy: 0.1136\n",
            "Epoch 30/100\n",
            "2/2 [==============================] - 0s 36ms/step - loss: 3.5036 - accuracy: 0.1136\n",
            "Epoch 31/100\n",
            "2/2 [==============================] - 0s 36ms/step - loss: 3.4997 - accuracy: 0.1136\n",
            "Epoch 32/100\n",
            "2/2 [==============================] - 0s 36ms/step - loss: 3.4963 - accuracy: 0.1136\n",
            "Epoch 33/100\n",
            "2/2 [==============================] - 0s 27ms/step - loss: 3.4926 - accuracy: 0.1136\n",
            "Epoch 34/100\n",
            "2/2 [==============================] - 0s 26ms/step - loss: 3.4883 - accuracy: 0.1136\n",
            "Epoch 35/100\n",
            "2/2 [==============================] - 0s 27ms/step - loss: 3.4840 - accuracy: 0.1136\n",
            "Epoch 36/100\n",
            "2/2 [==============================] - 0s 27ms/step - loss: 3.4797 - accuracy: 0.1136\n",
            "Epoch 37/100\n",
            "2/2 [==============================] - 0s 27ms/step - loss: 3.4749 - accuracy: 0.1136\n",
            "Epoch 38/100\n",
            "2/2 [==============================] - 0s 27ms/step - loss: 3.4697 - accuracy: 0.1136\n",
            "Epoch 39/100\n",
            "2/2 [==============================] - 0s 28ms/step - loss: 3.4643 - accuracy: 0.1136\n",
            "Epoch 40/100\n",
            "2/2 [==============================] - 0s 33ms/step - loss: 3.4589 - accuracy: 0.1136\n",
            "Epoch 41/100\n",
            "2/2 [==============================] - 0s 30ms/step - loss: 3.4526 - accuracy: 0.1136\n",
            "Epoch 42/100\n",
            "2/2 [==============================] - 0s 28ms/step - loss: 3.4464 - accuracy: 0.1136\n",
            "Epoch 43/100\n",
            "2/2 [==============================] - 0s 28ms/step - loss: 3.4395 - accuracy: 0.1136\n",
            "Epoch 44/100\n",
            "2/2 [==============================] - 0s 29ms/step - loss: 3.4321 - accuracy: 0.1136\n",
            "Epoch 45/100\n",
            "2/2 [==============================] - 0s 31ms/step - loss: 3.4248 - accuracy: 0.1136\n",
            "Epoch 46/100\n",
            "2/2 [==============================] - 0s 35ms/step - loss: 3.4169 - accuracy: 0.1591\n",
            "Epoch 47/100\n",
            "2/2 [==============================] - 0s 37ms/step - loss: 3.4086 - accuracy: 0.1591\n",
            "Epoch 48/100\n",
            "2/2 [==============================] - 0s 40ms/step - loss: 3.3994 - accuracy: 0.1591\n",
            "Epoch 49/100\n",
            "2/2 [==============================] - 0s 28ms/step - loss: 3.3907 - accuracy: 0.1591\n",
            "Epoch 50/100\n",
            "2/2 [==============================] - 0s 31ms/step - loss: 3.3809 - accuracy: 0.1591\n",
            "Epoch 51/100\n",
            "2/2 [==============================] - 0s 27ms/step - loss: 3.3703 - accuracy: 0.1591\n",
            "Epoch 52/100\n",
            "2/2 [==============================] - 0s 27ms/step - loss: 3.3604 - accuracy: 0.1591\n",
            "Epoch 53/100\n",
            "2/2 [==============================] - 0s 29ms/step - loss: 3.3488 - accuracy: 0.1591\n",
            "Epoch 54/100\n",
            "2/2 [==============================] - 0s 27ms/step - loss: 3.3377 - accuracy: 0.1591\n",
            "Epoch 55/100\n",
            "2/2 [==============================] - 0s 27ms/step - loss: 3.3254 - accuracy: 0.1591\n",
            "Epoch 56/100\n",
            "2/2 [==============================] - 0s 38ms/step - loss: 3.3128 - accuracy: 0.1591\n",
            "Epoch 57/100\n",
            "2/2 [==============================] - 0s 26ms/step - loss: 3.2997 - accuracy: 0.1591\n",
            "Epoch 58/100\n",
            "2/2 [==============================] - 0s 34ms/step - loss: 3.2864 - accuracy: 0.1591\n",
            "Epoch 59/100\n",
            "2/2 [==============================] - 0s 28ms/step - loss: 3.2720 - accuracy: 0.1591\n",
            "Epoch 60/100\n",
            "2/2 [==============================] - 0s 27ms/step - loss: 3.2575 - accuracy: 0.1591\n",
            "Epoch 61/100\n",
            "2/2 [==============================] - 0s 36ms/step - loss: 3.2424 - accuracy: 0.1591\n",
            "Epoch 62/100\n",
            "2/2 [==============================] - 0s 36ms/step - loss: 3.2266 - accuracy: 0.1591\n",
            "Epoch 63/100\n",
            "2/2 [==============================] - 0s 34ms/step - loss: 3.2101 - accuracy: 0.1591\n",
            "Epoch 64/100\n",
            "2/2 [==============================] - 0s 27ms/step - loss: 3.1931 - accuracy: 0.1591\n",
            "Epoch 65/100\n",
            "2/2 [==============================] - 0s 26ms/step - loss: 3.1760 - accuracy: 0.1591\n",
            "Epoch 66/100\n",
            "2/2 [==============================] - 0s 27ms/step - loss: 3.1573 - accuracy: 0.1591\n",
            "Epoch 67/100\n",
            "2/2 [==============================] - 0s 33ms/step - loss: 3.1382 - accuracy: 0.1818\n",
            "Epoch 68/100\n",
            "2/2 [==============================] - 0s 32ms/step - loss: 3.1191 - accuracy: 0.1818\n",
            "Epoch 69/100\n",
            "2/2 [==============================] - 0s 27ms/step - loss: 3.0984 - accuracy: 0.1818\n",
            "Epoch 70/100\n",
            "2/2 [==============================] - 0s 26ms/step - loss: 3.0786 - accuracy: 0.2045\n",
            "Epoch 71/100\n",
            "2/2 [==============================] - 0s 30ms/step - loss: 3.0558 - accuracy: 0.2273\n",
            "Epoch 72/100\n",
            "2/2 [==============================] - 0s 29ms/step - loss: 3.0350 - accuracy: 0.2500\n",
            "Epoch 73/100\n",
            "2/2 [==============================] - 0s 27ms/step - loss: 3.0124 - accuracy: 0.2500\n",
            "Epoch 74/100\n",
            "2/2 [==============================] - 0s 28ms/step - loss: 2.9896 - accuracy: 0.2500\n",
            "Epoch 75/100\n",
            "2/2 [==============================] - 0s 28ms/step - loss: 2.9663 - accuracy: 0.2727\n",
            "Epoch 76/100\n",
            "2/2 [==============================] - 0s 38ms/step - loss: 2.9416 - accuracy: 0.2727\n",
            "Epoch 77/100\n",
            "2/2 [==============================] - 0s 38ms/step - loss: 2.9194 - accuracy: 0.2727\n",
            "Epoch 78/100\n",
            "2/2 [==============================] - 0s 36ms/step - loss: 2.8943 - accuracy: 0.2727\n",
            "Epoch 79/100\n",
            "2/2 [==============================] - 0s 34ms/step - loss: 2.8705 - accuracy: 0.2727\n",
            "Epoch 80/100\n",
            "2/2 [==============================] - 0s 27ms/step - loss: 2.8457 - accuracy: 0.2955\n",
            "Epoch 81/100\n",
            "2/2 [==============================] - 0s 27ms/step - loss: 2.8206 - accuracy: 0.2955\n",
            "Epoch 82/100\n",
            "2/2 [==============================] - 0s 27ms/step - loss: 2.7954 - accuracy: 0.2955\n",
            "Epoch 83/100\n",
            "2/2 [==============================] - 0s 27ms/step - loss: 2.7703 - accuracy: 0.2955\n",
            "Epoch 84/100\n",
            "2/2 [==============================] - 0s 27ms/step - loss: 2.7446 - accuracy: 0.2955\n",
            "Epoch 85/100\n",
            "2/2 [==============================] - 0s 27ms/step - loss: 2.7201 - accuracy: 0.2955\n",
            "Epoch 86/100\n",
            "2/2 [==============================] - 0s 29ms/step - loss: 2.6946 - accuracy: 0.2955\n",
            "Epoch 87/100\n",
            "2/2 [==============================] - 0s 28ms/step - loss: 2.6683 - accuracy: 0.2955\n",
            "Epoch 88/100\n",
            "2/2 [==============================] - 0s 31ms/step - loss: 2.6426 - accuracy: 0.2955\n",
            "Epoch 89/100\n",
            "2/2 [==============================] - 0s 30ms/step - loss: 2.6161 - accuracy: 0.2955\n",
            "Epoch 90/100\n",
            "2/2 [==============================] - 0s 29ms/step - loss: 2.5905 - accuracy: 0.2955\n",
            "Epoch 91/100\n",
            "2/2 [==============================] - 0s 56ms/step - loss: 2.5643 - accuracy: 0.3409\n",
            "Epoch 92/100\n",
            "2/2 [==============================] - 0s 63ms/step - loss: 2.5385 - accuracy: 0.3409\n",
            "Epoch 93/100\n",
            "2/2 [==============================] - 0s 59ms/step - loss: 2.5119 - accuracy: 0.3409\n",
            "Epoch 94/100\n",
            "2/2 [==============================] - 0s 46ms/step - loss: 2.4854 - accuracy: 0.3409\n",
            "Epoch 95/100\n",
            "2/2 [==============================] - 0s 40ms/step - loss: 2.4596 - accuracy: 0.3409\n",
            "Epoch 96/100\n",
            "2/2 [==============================] - 0s 33ms/step - loss: 2.4338 - accuracy: 0.3409\n",
            "Epoch 97/100\n",
            "2/2 [==============================] - 0s 34ms/step - loss: 2.4071 - accuracy: 0.3864\n",
            "Epoch 98/100\n",
            "2/2 [==============================] - 0s 33ms/step - loss: 2.3809 - accuracy: 0.4091\n",
            "Epoch 99/100\n",
            "2/2 [==============================] - 0s 32ms/step - loss: 2.3547 - accuracy: 0.4091\n",
            "Epoch 100/100\n",
            "2/2 [==============================] - 0s 37ms/step - loss: 2.3290 - accuracy: 0.4318\n"
          ]
        },
        {
          "output_type": "execute_result",
          "data": {
            "text/plain": [
              "<keras.callbacks.History at 0x78d36dfd2dd0>"
            ]
          },
          "metadata": {},
          "execution_count": 98
        }
      ],
      "source": [
        "model.fit(x,y,epochs=100)"
      ]
    },
    {
      "cell_type": "code",
      "execution_count": null,
      "metadata": {
        "colab": {
          "base_uri": "https://localhost:8080/"
        },
        "id": "lGMu3gYDO9LI",
        "outputId": "47c61cce-2199-4078-9868-fa91400693b0"
      },
      "outputs": [
        {
          "output_type": "execute_result",
          "data": {
            "text/plain": [
              "array([10, 11, 12,  3,  4, 13,  5,  1,  6,  1,  2, 14,  7, 15,  4, 16,  3,\n",
              "       17,  2, 18, 19, 20, 21, 22, 23, 24, 25,  8,  5,  1, 26, 27,  8,  6,\n",
              "        2,  7, 28, 29,  9, 30, 31, 32, 33, 34])"
            ]
          },
          "metadata": {},
          "execution_count": 99
        }
      ],
      "source": [
        "x"
      ]
    },
    {
      "cell_type": "code",
      "execution_count": null,
      "metadata": {
        "colab": {
          "base_uri": "https://localhost:8080/"
        },
        "id": "liJkUbx7O9LJ",
        "outputId": "3208f172-d311-4506-ab15-16ca897433dd"
      },
      "outputs": [
        {
          "output_type": "execute_result",
          "data": {
            "text/plain": [
              "array([[0., 0., 0., ..., 0., 0., 0.],\n",
              "       [0., 0., 0., ..., 0., 0., 0.],\n",
              "       [0., 0., 0., ..., 0., 0., 0.],\n",
              "       ...,\n",
              "       [0., 0., 0., ..., 0., 1., 0.],\n",
              "       [0., 0., 0., ..., 0., 0., 1.],\n",
              "       [0., 0., 0., ..., 0., 0., 0.]], dtype=float32)"
            ]
          },
          "metadata": {},
          "execution_count": 100
        }
      ],
      "source": [
        "y"
      ]
    },
    {
      "cell_type": "code",
      "execution_count": null,
      "metadata": {
        "id": "kyNx3Sg8O9LK"
      },
      "outputs": [],
      "source": [
        " n_pred=3\n"
      ]
    },
    {
      "cell_type": "code",
      "source": [
        "def generate_seq(model,tokenizer,enter_text,n_pred):\n",
        "  in_text,result=enter_text,enter_text\n",
        "  for i in range (n_pred):\n",
        "    encoded =tokenizer.texts_to_sequences([in_text])[0]\n",
        "    encoded=array(encoded)\n",
        "    # Reshape the input to match the expected shape by the model\n",
        "    encoded = encoded.reshape(1, -1)\n",
        "    # Check if the encoded sequence is empty and handle it\n",
        "    if encoded.size == 0:\n",
        "      print(\"Warning: Empty sequence encountered. Skipping prediction.\")\n",
        "      continue  # Skip to the next iteration\n",
        "    y_prob = model.predict(encoded)\n",
        "    yhat = y_prob.argmax(axis=-1)\n",
        "   # yhat=model.predict_classes(encoded)\n",
        "    out_word= ''\n",
        "    for word,index in tokenizer.word_index.items():\n",
        "        if index == yhat:\n",
        "          out_word=word\n",
        "          break\n",
        "    in_text,result=out_word,result+''+out_word\n",
        "  return result\n",
        "\n",
        "# Enable eager execution if necessary\n",
        "import tensorflow as tf\n",
        "tf.config.run_functions_eagerly(True)\n",
        "\n",
        "print(generate_seq(model,tokenizer,'image',2))"
      ],
      "metadata": {
        "colab": {
          "base_uri": "https://localhost:8080/"
        },
        "id": "EaiFo_pkYJhJ",
        "outputId": "a99f8c9e-ae13-4371-e789-2ac06408ff9f"
      },
      "execution_count": null,
      "outputs": [
        {
          "output_type": "stream",
          "name": "stdout",
          "text": [
            "Warning: Empty sequence encountered. Skipping prediction.\n",
            "Warning: Empty sequence encountered. Skipping prediction.\n",
            "image\n"
          ]
        }
      ]
    },
    {
      "cell_type": "code",
      "source": [],
      "metadata": {
        "id": "1clZqHhGQq3N"
      },
      "execution_count": null,
      "outputs": []
    }
  ],
  "metadata": {
    "kernelspec": {
      "display_name": "Python 3",
      "language": "python",
      "name": "python3"
    },
    "language_info": {
      "codemirror_mode": {
        "name": "ipython",
        "version": 3
      },
      "file_extension": ".py",
      "mimetype": "text/x-python",
      "name": "python",
      "nbconvert_exporter": "python",
      "pygments_lexer": "ipython3",
      "version": "3.7.7"
    },
    "colab": {
      "provenance": [],
      "include_colab_link": true
    }
  },
  "nbformat": 4,
  "nbformat_minor": 0
}